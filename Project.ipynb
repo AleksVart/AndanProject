{
 "cells": [
  {
   "cell_type": "markdown",
   "id": "ac96c508",
   "metadata": {},
   "source": [
    "### Цели исследования"
   ]
  },
  {
   "cell_type": "markdown",
   "id": "bd108c59",
   "metadata": {},
   "source": [
    "Давно известно, что уровень образования человека имеет большое влияние на уровень его дохода. Но какова сила этого влияния? Как прочие демографические характеристики, например, пол оказывают влияние на взаимосвязь образования и дохода?"
   ]
  },
  {
   "cell_type": "markdown",
   "id": "ee08b3a4",
   "metadata": {},
   "source": [
    "__Основная цель: Изучить взаимосвязь между уровнем образования человека и его доходом (в развитых экономиках)__"
   ]
  },
  {
   "cell_type": "markdown",
   "id": "733b667b",
   "metadata": {},
   "source": [
    "__Дополнительная цель: Изучить то, как пол влияет на зависимость дохода от уровня образования__"
   ]
  },
  {
   "cell_type": "markdown",
   "id": "14e34395",
   "metadata": {},
   "source": [
    "### Используемые библиотеки:"
   ]
  },
  {
   "cell_type": "code",
   "execution_count": 132,
   "id": "c2fe67dd",
   "metadata": {},
   "outputs": [],
   "source": [
    "import pandas as pd\n",
    "import matplotlib.pyplot as plt\n",
    "import seaborn as sns\n",
    "import numpy as np\n",
    "import random\n",
    "import scipy.stats as st\n",
    "random_state = 9"
   ]
  },
  {
   "cell_type": "code",
   "execution_count": 108,
   "id": "53d0d6d8",
   "metadata": {},
   "outputs": [],
   "source": [
    "sns.set_theme(style=\"whitegrid\", palette=\"muted\")\n",
    "plt.rcParams['figure.figsize'] = (10, 6)"
   ]
  },
  {
   "cell_type": "markdown",
   "id": "f81caaf1",
   "metadata": {},
   "source": [
    "### Данные"
   ]
  },
  {
   "cell_type": "markdown",
   "id": "31ae7d4d",
   "metadata": {},
   "source": [
    "Есть такой сайт: IPUMS international (https://international.ipums.org/international/), который под началом униерситета Миннесоты занимается сбором и публикацией данных переписей населения. \n",
    "\n",
    "Возьмём данные переписи США 2015 года, поскольку США - является страной с развитой экономикой(а именно в контексте такой экономики мы бы хотели проводить исследование) и в вопросах переписи находятся все ключевые для этого исследования данные (доход/ образование/ пол/ семейное положение)\n",
    "\n",
    "Скачаем данные по полу, возрасту, доходу, семейному положению, количеству детей и часам работы в неделю"
   ]
  },
  {
   "cell_type": "code",
   "execution_count": 2,
   "id": "327c2996",
   "metadata": {},
   "outputs": [],
   "source": [
    "df_dem = pd.read_csv('https://github.com/AleksVart/AndanProject/raw/main/US_2015.csv', sep = ';')"
   ]
  },
  {
   "cell_type": "markdown",
   "id": "e4025d24",
   "metadata": {},
   "source": [
    "### Обзор данных"
   ]
  },
  {
   "cell_type": "code",
   "execution_count": 3,
   "id": "97130592",
   "metadata": {},
   "outputs": [
    {
     "data": {
      "text/html": [
       "<div>\n",
       "<style scoped>\n",
       "    .dataframe tbody tr th:only-of-type {\n",
       "        vertical-align: middle;\n",
       "    }\n",
       "\n",
       "    .dataframe tbody tr th {\n",
       "        vertical-align: top;\n",
       "    }\n",
       "\n",
       "    .dataframe thead th {\n",
       "        text-align: right;\n",
       "    }\n",
       "</style>\n",
       "<table border=\"1\" class=\"dataframe\">\n",
       "  <thead>\n",
       "    <tr style=\"text-align: right;\">\n",
       "      <th></th>\n",
       "      <th>US2015A_EDUC</th>\n",
       "      <th>US2015A_INCTOT</th>\n",
       "      <th>US2015A_SEX</th>\n",
       "      <th>US2015A_AGE</th>\n",
       "      <th>US2015A_NCHILD</th>\n",
       "      <th>US2015A_MARST</th>\n",
       "      <th>US2015A_UHRSWORK</th>\n",
       "    </tr>\n",
       "  </thead>\n",
       "  <tbody>\n",
       "    <tr>\n",
       "      <th>0</th>\n",
       "      <td>50</td>\n",
       "      <td>3450</td>\n",
       "      <td>1</td>\n",
       "      <td>56</td>\n",
       "      <td>0</td>\n",
       "      <td>1</td>\n",
       "      <td>5</td>\n",
       "    </tr>\n",
       "    <tr>\n",
       "      <th>1</th>\n",
       "      <td>71</td>\n",
       "      <td>14000</td>\n",
       "      <td>2</td>\n",
       "      <td>61</td>\n",
       "      <td>0</td>\n",
       "      <td>1</td>\n",
       "      <td>0</td>\n",
       "    </tr>\n",
       "    <tr>\n",
       "      <th>2</th>\n",
       "      <td>15</td>\n",
       "      <td>9999999</td>\n",
       "      <td>2</td>\n",
       "      <td>8</td>\n",
       "      <td>0</td>\n",
       "      <td>6</td>\n",
       "      <td>0</td>\n",
       "    </tr>\n",
       "    <tr>\n",
       "      <th>3</th>\n",
       "      <td>71</td>\n",
       "      <td>35000</td>\n",
       "      <td>1</td>\n",
       "      <td>61</td>\n",
       "      <td>0</td>\n",
       "      <td>4</td>\n",
       "      <td>40</td>\n",
       "    </tr>\n",
       "    <tr>\n",
       "      <th>4</th>\n",
       "      <td>26</td>\n",
       "      <td>8800</td>\n",
       "      <td>2</td>\n",
       "      <td>52</td>\n",
       "      <td>0</td>\n",
       "      <td>4</td>\n",
       "      <td>0</td>\n",
       "    </tr>\n",
       "    <tr>\n",
       "      <th>...</th>\n",
       "      <td>...</td>\n",
       "      <td>...</td>\n",
       "      <td>...</td>\n",
       "      <td>...</td>\n",
       "      <td>...</td>\n",
       "      <td>...</td>\n",
       "      <td>...</td>\n",
       "    </tr>\n",
       "    <tr>\n",
       "      <th>1048570</th>\n",
       "      <td>50</td>\n",
       "      <td>0</td>\n",
       "      <td>1</td>\n",
       "      <td>18</td>\n",
       "      <td>0</td>\n",
       "      <td>6</td>\n",
       "      <td>0</td>\n",
       "    </tr>\n",
       "    <tr>\n",
       "      <th>1048571</th>\n",
       "      <td>65</td>\n",
       "      <td>21400</td>\n",
       "      <td>1</td>\n",
       "      <td>61</td>\n",
       "      <td>1</td>\n",
       "      <td>1</td>\n",
       "      <td>20</td>\n",
       "    </tr>\n",
       "    <tr>\n",
       "      <th>1048572</th>\n",
       "      <td>81</td>\n",
       "      <td>54000</td>\n",
       "      <td>2</td>\n",
       "      <td>50</td>\n",
       "      <td>1</td>\n",
       "      <td>1</td>\n",
       "      <td>40</td>\n",
       "    </tr>\n",
       "    <tr>\n",
       "      <th>1048573</th>\n",
       "      <td>63</td>\n",
       "      <td>17900</td>\n",
       "      <td>1</td>\n",
       "      <td>19</td>\n",
       "      <td>0</td>\n",
       "      <td>6</td>\n",
       "      <td>29</td>\n",
       "    </tr>\n",
       "    <tr>\n",
       "      <th>1048574</th>\n",
       "      <td>2</td>\n",
       "      <td>43000</td>\n",
       "      <td>1</td>\n",
       "      <td>41</td>\n",
       "      <td>3</td>\n",
       "      <td>1</td>\n",
       "      <td>40</td>\n",
       "    </tr>\n",
       "  </tbody>\n",
       "</table>\n",
       "<p>1048575 rows × 7 columns</p>\n",
       "</div>"
      ],
      "text/plain": [
       "         US2015A_EDUC  US2015A_INCTOT  US2015A_SEX  US2015A_AGE  \\\n",
       "0                  50            3450            1           56   \n",
       "1                  71           14000            2           61   \n",
       "2                  15         9999999            2            8   \n",
       "3                  71           35000            1           61   \n",
       "4                  26            8800            2           52   \n",
       "...               ...             ...          ...          ...   \n",
       "1048570            50               0            1           18   \n",
       "1048571            65           21400            1           61   \n",
       "1048572            81           54000            2           50   \n",
       "1048573            63           17900            1           19   \n",
       "1048574             2           43000            1           41   \n",
       "\n",
       "         US2015A_NCHILD  US2015A_MARST  US2015A_UHRSWORK  \n",
       "0                     0              1                 5  \n",
       "1                     0              1                 0  \n",
       "2                     0              6                 0  \n",
       "3                     0              4                40  \n",
       "4                     0              4                 0  \n",
       "...                 ...            ...               ...  \n",
       "1048570               0              6                 0  \n",
       "1048571               1              1                20  \n",
       "1048572               1              1                40  \n",
       "1048573               0              6                29  \n",
       "1048574               3              1                40  \n",
       "\n",
       "[1048575 rows x 7 columns]"
      ]
     },
     "execution_count": 3,
     "metadata": {},
     "output_type": "execute_result"
    }
   ],
   "source": [
    "df_dem"
   ]
  },
  {
   "cell_type": "code",
   "execution_count": 10,
   "id": "ee1fef5e",
   "metadata": {},
   "outputs": [],
   "source": [
    "df_dem.columns = ['EDUC','INCTOT','SEX', 'AGE', 'NCHILD', 'MARST', 'UHRSWORK' ] # переименуем колонки"
   ]
  },
  {
   "cell_type": "code",
   "execution_count": 11,
   "id": "3e34f4db",
   "metadata": {},
   "outputs": [
    {
     "data": {
      "text/html": [
       "<div>\n",
       "<style scoped>\n",
       "    .dataframe tbody tr th:only-of-type {\n",
       "        vertical-align: middle;\n",
       "    }\n",
       "\n",
       "    .dataframe tbody tr th {\n",
       "        vertical-align: top;\n",
       "    }\n",
       "\n",
       "    .dataframe thead th {\n",
       "        text-align: right;\n",
       "    }\n",
       "</style>\n",
       "<table border=\"1\" class=\"dataframe\">\n",
       "  <thead>\n",
       "    <tr style=\"text-align: right;\">\n",
       "      <th></th>\n",
       "      <th>EDUC</th>\n",
       "      <th>INCTOT</th>\n",
       "      <th>SEX</th>\n",
       "      <th>AGE</th>\n",
       "      <th>NCHILD</th>\n",
       "      <th>MARST</th>\n",
       "      <th>UHRSWORK</th>\n",
       "    </tr>\n",
       "  </thead>\n",
       "  <tbody>\n",
       "    <tr>\n",
       "      <th>0</th>\n",
       "      <td>50</td>\n",
       "      <td>3450</td>\n",
       "      <td>1</td>\n",
       "      <td>56</td>\n",
       "      <td>0</td>\n",
       "      <td>1</td>\n",
       "      <td>5</td>\n",
       "    </tr>\n",
       "    <tr>\n",
       "      <th>1</th>\n",
       "      <td>71</td>\n",
       "      <td>14000</td>\n",
       "      <td>2</td>\n",
       "      <td>61</td>\n",
       "      <td>0</td>\n",
       "      <td>1</td>\n",
       "      <td>0</td>\n",
       "    </tr>\n",
       "    <tr>\n",
       "      <th>2</th>\n",
       "      <td>15</td>\n",
       "      <td>9999999</td>\n",
       "      <td>2</td>\n",
       "      <td>8</td>\n",
       "      <td>0</td>\n",
       "      <td>6</td>\n",
       "      <td>0</td>\n",
       "    </tr>\n",
       "    <tr>\n",
       "      <th>3</th>\n",
       "      <td>71</td>\n",
       "      <td>35000</td>\n",
       "      <td>1</td>\n",
       "      <td>61</td>\n",
       "      <td>0</td>\n",
       "      <td>4</td>\n",
       "      <td>40</td>\n",
       "    </tr>\n",
       "    <tr>\n",
       "      <th>4</th>\n",
       "      <td>26</td>\n",
       "      <td>8800</td>\n",
       "      <td>2</td>\n",
       "      <td>52</td>\n",
       "      <td>0</td>\n",
       "      <td>4</td>\n",
       "      <td>0</td>\n",
       "    </tr>\n",
       "    <tr>\n",
       "      <th>...</th>\n",
       "      <td>...</td>\n",
       "      <td>...</td>\n",
       "      <td>...</td>\n",
       "      <td>...</td>\n",
       "      <td>...</td>\n",
       "      <td>...</td>\n",
       "      <td>...</td>\n",
       "    </tr>\n",
       "    <tr>\n",
       "      <th>1048570</th>\n",
       "      <td>50</td>\n",
       "      <td>0</td>\n",
       "      <td>1</td>\n",
       "      <td>18</td>\n",
       "      <td>0</td>\n",
       "      <td>6</td>\n",
       "      <td>0</td>\n",
       "    </tr>\n",
       "    <tr>\n",
       "      <th>1048571</th>\n",
       "      <td>65</td>\n",
       "      <td>21400</td>\n",
       "      <td>1</td>\n",
       "      <td>61</td>\n",
       "      <td>1</td>\n",
       "      <td>1</td>\n",
       "      <td>20</td>\n",
       "    </tr>\n",
       "    <tr>\n",
       "      <th>1048572</th>\n",
       "      <td>81</td>\n",
       "      <td>54000</td>\n",
       "      <td>2</td>\n",
       "      <td>50</td>\n",
       "      <td>1</td>\n",
       "      <td>1</td>\n",
       "      <td>40</td>\n",
       "    </tr>\n",
       "    <tr>\n",
       "      <th>1048573</th>\n",
       "      <td>63</td>\n",
       "      <td>17900</td>\n",
       "      <td>1</td>\n",
       "      <td>19</td>\n",
       "      <td>0</td>\n",
       "      <td>6</td>\n",
       "      <td>29</td>\n",
       "    </tr>\n",
       "    <tr>\n",
       "      <th>1048574</th>\n",
       "      <td>2</td>\n",
       "      <td>43000</td>\n",
       "      <td>1</td>\n",
       "      <td>41</td>\n",
       "      <td>3</td>\n",
       "      <td>1</td>\n",
       "      <td>40</td>\n",
       "    </tr>\n",
       "  </tbody>\n",
       "</table>\n",
       "<p>1048575 rows × 7 columns</p>\n",
       "</div>"
      ],
      "text/plain": [
       "         EDUC   INCTOT  SEX  AGE  NCHILD  MARST  UHRSWORK\n",
       "0          50     3450    1   56       0      1         5\n",
       "1          71    14000    2   61       0      1         0\n",
       "2          15  9999999    2    8       0      6         0\n",
       "3          71    35000    1   61       0      4        40\n",
       "4          26     8800    2   52       0      4         0\n",
       "...       ...      ...  ...  ...     ...    ...       ...\n",
       "1048570    50        0    1   18       0      6         0\n",
       "1048571    65    21400    1   61       1      1        20\n",
       "1048572    81    54000    2   50       1      1        40\n",
       "1048573    63    17900    1   19       0      6        29\n",
       "1048574     2    43000    1   41       3      1        40\n",
       "\n",
       "[1048575 rows x 7 columns]"
      ]
     },
     "execution_count": 11,
     "metadata": {},
     "output_type": "execute_result"
    }
   ],
   "source": [
    "df_dem"
   ]
  },
  {
   "cell_type": "markdown",
   "id": "0e25926b",
   "metadata": {},
   "source": [
    "У нас есть данные по более чем миллиону респондентов"
   ]
  },
  {
   "cell_type": "code",
   "execution_count": 12,
   "id": "2cbafa40",
   "metadata": {},
   "outputs": [
    {
     "data": {
      "text/html": [
       "<div>\n",
       "<style scoped>\n",
       "    .dataframe tbody tr th:only-of-type {\n",
       "        vertical-align: middle;\n",
       "    }\n",
       "\n",
       "    .dataframe tbody tr th {\n",
       "        vertical-align: top;\n",
       "    }\n",
       "\n",
       "    .dataframe thead th {\n",
       "        text-align: right;\n",
       "    }\n",
       "</style>\n",
       "<table border=\"1\" class=\"dataframe\">\n",
       "  <thead>\n",
       "    <tr style=\"text-align: right;\">\n",
       "      <th></th>\n",
       "      <th>EDUC</th>\n",
       "      <th>INCTOT</th>\n",
       "      <th>SEX</th>\n",
       "      <th>AGE</th>\n",
       "      <th>NCHILD</th>\n",
       "      <th>MARST</th>\n",
       "      <th>UHRSWORK</th>\n",
       "    </tr>\n",
       "  </thead>\n",
       "  <tbody>\n",
       "    <tr>\n",
       "      <th>count</th>\n",
       "      <td>1.048575e+06</td>\n",
       "      <td>1.048575e+06</td>\n",
       "      <td>1.048575e+06</td>\n",
       "      <td>1.048575e+06</td>\n",
       "      <td>1.048575e+06</td>\n",
       "      <td>1.048575e+06</td>\n",
       "      <td>1.048575e+06</td>\n",
       "    </tr>\n",
       "    <tr>\n",
       "      <th>mean</th>\n",
       "      <td>6.309909e+01</td>\n",
       "      <td>1.719956e+06</td>\n",
       "      <td>1.511336e+00</td>\n",
       "      <td>4.102650e+01</td>\n",
       "      <td>5.002170e-01</td>\n",
       "      <td>3.648573e+00</td>\n",
       "      <td>1.898217e+01</td>\n",
       "    </tr>\n",
       "    <tr>\n",
       "      <th>std</th>\n",
       "      <td>3.259213e+01</td>\n",
       "      <td>3.731263e+06</td>\n",
       "      <td>4.998717e-01</td>\n",
       "      <td>2.353541e+01</td>\n",
       "      <td>9.482776e-01</td>\n",
       "      <td>2.302782e+00</td>\n",
       "      <td>2.115208e+01</td>\n",
       "    </tr>\n",
       "    <tr>\n",
       "      <th>min</th>\n",
       "      <td>1.000000e+00</td>\n",
       "      <td>-1.120000e+04</td>\n",
       "      <td>1.000000e+00</td>\n",
       "      <td>0.000000e+00</td>\n",
       "      <td>0.000000e+00</td>\n",
       "      <td>1.000000e+00</td>\n",
       "      <td>0.000000e+00</td>\n",
       "    </tr>\n",
       "    <tr>\n",
       "      <th>25%</th>\n",
       "      <td>4.000000e+01</td>\n",
       "      <td>9.600000e+03</td>\n",
       "      <td>1.000000e+00</td>\n",
       "      <td>2.100000e+01</td>\n",
       "      <td>0.000000e+00</td>\n",
       "      <td>1.000000e+00</td>\n",
       "      <td>0.000000e+00</td>\n",
       "    </tr>\n",
       "    <tr>\n",
       "      <th>50%</th>\n",
       "      <td>6.400000e+01</td>\n",
       "      <td>3.000000e+04</td>\n",
       "      <td>2.000000e+00</td>\n",
       "      <td>4.200000e+01</td>\n",
       "      <td>0.000000e+00</td>\n",
       "      <td>4.000000e+00</td>\n",
       "      <td>0.000000e+00</td>\n",
       "    </tr>\n",
       "    <tr>\n",
       "      <th>75%</th>\n",
       "      <td>8.100000e+01</td>\n",
       "      <td>9.000000e+04</td>\n",
       "      <td>2.000000e+00</td>\n",
       "      <td>6.000000e+01</td>\n",
       "      <td>1.000000e+00</td>\n",
       "      <td>6.000000e+00</td>\n",
       "      <td>4.000000e+01</td>\n",
       "    </tr>\n",
       "    <tr>\n",
       "      <th>max</th>\n",
       "      <td>1.160000e+02</td>\n",
       "      <td>9.999999e+06</td>\n",
       "      <td>2.000000e+00</td>\n",
       "      <td>9.700000e+01</td>\n",
       "      <td>9.000000e+00</td>\n",
       "      <td>6.000000e+00</td>\n",
       "      <td>9.900000e+01</td>\n",
       "    </tr>\n",
       "  </tbody>\n",
       "</table>\n",
       "</div>"
      ],
      "text/plain": [
       "               EDUC        INCTOT           SEX           AGE        NCHILD  \\\n",
       "count  1.048575e+06  1.048575e+06  1.048575e+06  1.048575e+06  1.048575e+06   \n",
       "mean   6.309909e+01  1.719956e+06  1.511336e+00  4.102650e+01  5.002170e-01   \n",
       "std    3.259213e+01  3.731263e+06  4.998717e-01  2.353541e+01  9.482776e-01   \n",
       "min    1.000000e+00 -1.120000e+04  1.000000e+00  0.000000e+00  0.000000e+00   \n",
       "25%    4.000000e+01  9.600000e+03  1.000000e+00  2.100000e+01  0.000000e+00   \n",
       "50%    6.400000e+01  3.000000e+04  2.000000e+00  4.200000e+01  0.000000e+00   \n",
       "75%    8.100000e+01  9.000000e+04  2.000000e+00  6.000000e+01  1.000000e+00   \n",
       "max    1.160000e+02  9.999999e+06  2.000000e+00  9.700000e+01  9.000000e+00   \n",
       "\n",
       "              MARST      UHRSWORK  \n",
       "count  1.048575e+06  1.048575e+06  \n",
       "mean   3.648573e+00  1.898217e+01  \n",
       "std    2.302782e+00  2.115208e+01  \n",
       "min    1.000000e+00  0.000000e+00  \n",
       "25%    1.000000e+00  0.000000e+00  \n",
       "50%    4.000000e+00  0.000000e+00  \n",
       "75%    6.000000e+00  4.000000e+01  \n",
       "max    6.000000e+00  9.900000e+01  "
      ]
     },
     "execution_count": 12,
     "metadata": {},
     "output_type": "execute_result"
    }
   ],
   "source": [
    "df_dem.describe()"
   ]
  },
  {
   "cell_type": "code",
   "execution_count": 13,
   "id": "1ebef7a8",
   "metadata": {},
   "outputs": [
    {
     "data": {
      "text/plain": [
       "EDUC        int64\n",
       "INCTOT      int64\n",
       "SEX         int64\n",
       "AGE         int64\n",
       "NCHILD      int64\n",
       "MARST       int64\n",
       "UHRSWORK    int64\n",
       "dtype: object"
      ]
     },
     "execution_count": 13,
     "metadata": {},
     "output_type": "execute_result"
    }
   ],
   "source": [
    "df_dem.dtypes"
   ]
  },
  {
   "cell_type": "markdown",
   "id": "e92e4941",
   "metadata": {},
   "source": [
    "Вроде, ничего подозрительного нет. Всё корректно. Уровень образование, семейное положение, пол - это категориальные признаки, закодированые числами. Доход, возраст, число рабочих часов - просто численные признаки "
   ]
  },
  {
   "cell_type": "markdown",
   "id": "0e7f65bc",
   "metadata": {},
   "source": [
    "### Очистка данных"
   ]
  },
  {
   "cell_type": "markdown",
   "id": "932f33ad",
   "metadata": {},
   "source": [
    "Когда проходит перепись, то респондент может не подходить по каким-либо параметрам, для того чтобы учитываться в какой-то категории. Например, если речь идёт о совсем маленьком ребёнке, то его нельзя учитывать по категории \"образование\", и поэтому такой респондент в итоговых данных по данной категории имеет значение NIU (not in universe)."
   ]
  },
  {
   "cell_type": "markdown",
   "id": "2516a388",
   "metadata": {},
   "source": [
    "Давайте, уберём данные о респондентах, об уровне образования и дохода которых, у нас нет данных"
   ]
  },
  {
   "cell_type": "code",
   "execution_count": 14,
   "id": "7b7555de",
   "metadata": {},
   "outputs": [
    {
     "data": {
      "text/plain": [
       "31647"
      ]
     },
     "execution_count": 14,
     "metadata": {},
     "output_type": "execute_result"
    }
   ],
   "source": [
    "len(df_dem[df_dem['EDUC']== 1]) # Нашли число респондентов, для которых уровень образования не определён"
   ]
  },
  {
   "cell_type": "markdown",
   "id": "15850a4e",
   "metadata": {},
   "source": [
    "Код 1 в графе \"уровень образования\" обозначает - NIU (not in universe). Данные по этим респондентам нам ни к чему. Удалим их."
   ]
  },
  {
   "cell_type": "code",
   "execution_count": 15,
   "id": "f724bb2b",
   "metadata": {},
   "outputs": [],
   "source": [
    "df_dem = df_dem.drop(df_dem[df_dem['EDUC']== 1].index, axis = 0)"
   ]
  },
  {
   "cell_type": "code",
   "execution_count": 16,
   "id": "8c3832d9",
   "metadata": {},
   "outputs": [
    {
     "data": {
      "text/html": [
       "<div>\n",
       "<style scoped>\n",
       "    .dataframe tbody tr th:only-of-type {\n",
       "        vertical-align: middle;\n",
       "    }\n",
       "\n",
       "    .dataframe tbody tr th {\n",
       "        vertical-align: top;\n",
       "    }\n",
       "\n",
       "    .dataframe thead th {\n",
       "        text-align: right;\n",
       "    }\n",
       "</style>\n",
       "<table border=\"1\" class=\"dataframe\">\n",
       "  <thead>\n",
       "    <tr style=\"text-align: right;\">\n",
       "      <th></th>\n",
       "      <th>EDUC</th>\n",
       "      <th>INCTOT</th>\n",
       "      <th>SEX</th>\n",
       "      <th>AGE</th>\n",
       "      <th>NCHILD</th>\n",
       "      <th>MARST</th>\n",
       "      <th>UHRSWORK</th>\n",
       "    </tr>\n",
       "  </thead>\n",
       "  <tbody>\n",
       "  </tbody>\n",
       "</table>\n",
       "</div>"
      ],
      "text/plain": [
       "Empty DataFrame\n",
       "Columns: [EDUC, INCTOT, SEX, AGE, NCHILD, MARST, UHRSWORK]\n",
       "Index: []"
      ]
     },
     "execution_count": 16,
     "metadata": {},
     "output_type": "execute_result"
    }
   ],
   "source": [
    "df_dem[df_dem['EDUC']== 1]"
   ]
  },
  {
   "cell_type": "markdown",
   "id": "9c4d6fe5",
   "metadata": {},
   "source": [
    "Теперь почистим данные о доходах. Доход обозначается числом долларов, заработанным в год. Кроме того кодом кодом 9999999 обозначаются данные по доходам респондентов, не подходящие под выборку (младше 15 лет)."
   ]
  },
  {
   "cell_type": "code",
   "execution_count": 17,
   "id": "0f0b3828",
   "metadata": {},
   "outputs": [
    {
     "data": {
      "text/plain": [
       "145313"
      ]
     },
     "execution_count": 17,
     "metadata": {},
     "output_type": "execute_result"
    }
   ],
   "source": [
    "len(df_dem[df_dem['INCTOT']== 9999999])"
   ]
  },
  {
   "cell_type": "code",
   "execution_count": 18,
   "id": "e40761e6",
   "metadata": {},
   "outputs": [
    {
     "data": {
      "text/plain": [
       "145313"
      ]
     },
     "execution_count": 18,
     "metadata": {},
     "output_type": "execute_result"
    }
   ],
   "source": [
    "len(df_dem[(df_dem['INCTOT']== 9999999) & (df_dem['AGE'] < 15)])"
   ]
  },
  {
   "cell_type": "markdown",
   "id": "a6c2833f",
   "metadata": {},
   "source": [
    "Видим, что все респонденты со значением 9999999 в графе \"доход\" - младше 15 лет. То есть, можно спокойно удалить эти данные из таблицы, не боясь случайно убрать оттуда людей, в самом деле, имеющий годовой доход от 10 миллионов $, если такие каким-то образом оказались бы в таблице."
   ]
  },
  {
   "cell_type": "code",
   "execution_count": 19,
   "id": "16191962",
   "metadata": {},
   "outputs": [],
   "source": [
    "df_dem = df_dem.drop(df_dem[(df_dem['INCTOT']== 9999999)].index, axis = 0)"
   ]
  },
  {
   "cell_type": "code",
   "execution_count": 20,
   "id": "e3e8c212",
   "metadata": {},
   "outputs": [
    {
     "data": {
      "text/plain": [
       "0"
      ]
     },
     "execution_count": 20,
     "metadata": {},
     "output_type": "execute_result"
    }
   ],
   "source": [
    "len(df_dem[(df_dem['INCTOT']== 9999999) & (df_dem['AGE'] < 15)])"
   ]
  },
  {
   "cell_type": "markdown",
   "id": "1737a5f9",
   "metadata": {},
   "source": [
    "### Изменение признаков"
   ]
  },
  {
   "cell_type": "markdown",
   "id": "577b96eb",
   "metadata": {},
   "source": [
    "Теперь заменим закодированный уровень образования на среднее число лет, необходимое для его получения. Таким образом, для дальнейшей простоты анализа"
   ]
  },
  {
   "cell_type": "markdown",
   "id": "37273ccd",
   "metadata": {},
   "source": [
    "2\tNo schooling completed\t- 0 лет\n",
    "\n",
    "11\tNursery school, preschool - 0 лет\n",
    "\n",
    "12\tKindergarten - 0 лет\n",
    "\n",
    "14\tGrade 1\t- 1 лет\n",
    "\n",
    "15\tGrade 2\t- 2 лет\n",
    "\n",
    "16\tGrade 3\t- 3 лет\n",
    "\n",
    "17\tGrade 4\t - 4 лет\n",
    "\n",
    "22\tGrade 5\t- 5 лет\n",
    "\n",
    "23\tGrade 6\t- 6 лет\n",
    "\n",
    "25\tGrade 7\t- 7 лет\n",
    "\n",
    "26\tGrade 8\t- 8 лет\n",
    "\n",
    "30\tGrade 9\t- 9 лет\n",
    "\n",
    "40\tGrade 10 - 10 лет\n",
    "\n",
    "50\tGrade 11 - 11 лет\n",
    "\n",
    "61\t12th grade, no diploma - 12 лет\n",
    "\n",
    "63\tRegular high school diploma - 12 лет\n",
    "\n",
    "64\tGED or alternative credential - 12 лет\n",
    "\n",
    "65\tSome college, but less than 1 year - 12,5 лет\n",
    "\n",
    "71\t1 or more years of college credit, no degree - 13,5 лет\n",
    "\n",
    "81\tAssociate's degree, type not specified - 14 лет\n",
    "\n",
    "101\tBachelor's degree - 16 лет\n",
    "\n",
    "114\tMaster's degree - 18 лет\n",
    "\n",
    "115\tProfessional degree beyond a bachelor's degree - 19 лет\n",
    "\n",
    "116\tDoctoral degree - 23,5 лет"
   ]
  },
  {
   "cell_type": "code",
   "execution_count": 21,
   "id": "a3ab9c4e",
   "metadata": {},
   "outputs": [],
   "source": [
    "df_dem['EDUC'] = df_dem['EDUC'].replace([2,11,12,14,15,16,17,22,23,25,26,30,40,50,61,63,64,65,71,81,101,114,115,116], \n",
    "                                        [0,0,0,1,2,3,4,5,6,7,8,9,10,11,12,12,12,12.5,13.5,14,16,18,19,23.5])"
   ]
  },
  {
   "cell_type": "markdown",
   "id": "69eb76c2",
   "metadata": {},
   "source": [
    "### Предварительное исследование"
   ]
  },
  {
   "cell_type": "markdown",
   "id": "21c79ebf",
   "metadata": {},
   "source": [
    "Попробуем проанализировать имеющуюся информацию и найти ответы на поставленные вопросы с помощью. визуального анализа"
   ]
  },
  {
   "cell_type": "markdown",
   "id": "1866e9d9",
   "metadata": {},
   "source": [
    "Рассмотрим распределение респондентов по количеству лет учёбы"
   ]
  },
  {
   "cell_type": "code",
   "execution_count": 109,
   "id": "1d6cd953",
   "metadata": {},
   "outputs": [
    {
     "data": {
      "image/png": "[encoded data removed]",
      "text/plain": [
       "<Figure size 720x432 with 1 Axes>"
      ]
     },
     "metadata": {},
     "output_type": "display_data"
    }
   ],
   "source": [
    "plt.hist(df_dem['EDUC'], bins = 10 )\n",
    "plt.xlabel('лет учёбы')\n",
    "plt.ylabel('кол-во респондентов')\n",
    "plt.xticks(np.arange(0, 23.5, 1.0));"
   ]
  },
  {
   "cell_type": "markdown",
   "id": "73f6fbbd",
   "metadata": {},
   "source": [
    "Видим большое число респондентов где-то на уровне около 12-13 лет учёбы, что не удивительно, так как примерно столько и учаться в школе в США. Количество респондентов с более высоким или более низким уровнем образования значительно меньше."
   ]
  },
  {
   "cell_type": "code",
   "execution_count": 110,
   "id": "e693ddc8",
   "metadata": {},
   "outputs": [
    {
     "data": {
      "image/png": "[encoded data removed]",
      "text/plain": [
       "<Figure size 720x432 with 1 Axes>"
      ]
     },
     "metadata": {},
     "output_type": "display_data"
    }
   ],
   "source": [
    "plt.hist(df_dem['INCTOT'], bins = 30)\n",
    "plt.xlabel('доход')\n",
    "plt.ylabel('кол-во респондентов');"
   ]
  },
  {
   "cell_type": "code",
   "execution_count": 111,
   "id": "285ed237",
   "metadata": {},
   "outputs": [
    {
     "data": {
      "image/png": "[encoded data removed]",
      "text/plain": [
       "<Figure size 720x432 with 1 Axes>"
      ]
     },
     "metadata": {},
     "output_type": "display_data"
    }
   ],
   "source": [
    "plt.boxplot(df_dem['INCTOT']);"
   ]
  },
  {
   "cell_type": "markdown",
   "id": "458fbdaf",
   "metadata": {},
   "source": [
    "Видим, что разброс дохода очень велик, что немного мешает построению гистограммы. Поэтому для более ясной картинки, построим гистограмму для респондентов с доходом < 150 000"
   ]
  },
  {
   "cell_type": "code",
   "execution_count": 72,
   "id": "ce626674",
   "metadata": {},
   "outputs": [],
   "source": [
    "doxod = df_dem[df_dem['INCTOT'] < 150000]"
   ]
  },
  {
   "cell_type": "code",
   "execution_count": 73,
   "id": "2d88d3d2",
   "metadata": {},
   "outputs": [
    {
     "data": {
      "text/html": [
       "<div>\n",
       "<style scoped>\n",
       "    .dataframe tbody tr th:only-of-type {\n",
       "        vertical-align: middle;\n",
       "    }\n",
       "\n",
       "    .dataframe tbody tr th {\n",
       "        vertical-align: top;\n",
       "    }\n",
       "\n",
       "    .dataframe thead th {\n",
       "        text-align: right;\n",
       "    }\n",
       "</style>\n",
       "<table border=\"1\" class=\"dataframe\">\n",
       "  <thead>\n",
       "    <tr style=\"text-align: right;\">\n",
       "      <th></th>\n",
       "      <th>EDUC</th>\n",
       "      <th>INCTOT</th>\n",
       "      <th>SEX</th>\n",
       "      <th>AGE</th>\n",
       "      <th>NCHILD</th>\n",
       "      <th>MARST</th>\n",
       "      <th>UHRSWORK</th>\n",
       "    </tr>\n",
       "  </thead>\n",
       "  <tbody>\n",
       "    <tr>\n",
       "      <th>0</th>\n",
       "      <td>11.0</td>\n",
       "      <td>3450</td>\n",
       "      <td>1</td>\n",
       "      <td>56</td>\n",
       "      <td>0</td>\n",
       "      <td>1</td>\n",
       "      <td>5</td>\n",
       "    </tr>\n",
       "    <tr>\n",
       "      <th>1</th>\n",
       "      <td>13.5</td>\n",
       "      <td>14000</td>\n",
       "      <td>2</td>\n",
       "      <td>61</td>\n",
       "      <td>0</td>\n",
       "      <td>1</td>\n",
       "      <td>0</td>\n",
       "    </tr>\n",
       "    <tr>\n",
       "      <th>3</th>\n",
       "      <td>13.5</td>\n",
       "      <td>35000</td>\n",
       "      <td>1</td>\n",
       "      <td>61</td>\n",
       "      <td>0</td>\n",
       "      <td>4</td>\n",
       "      <td>40</td>\n",
       "    </tr>\n",
       "    <tr>\n",
       "      <th>4</th>\n",
       "      <td>8.0</td>\n",
       "      <td>8800</td>\n",
       "      <td>2</td>\n",
       "      <td>52</td>\n",
       "      <td>0</td>\n",
       "      <td>4</td>\n",
       "      <td>0</td>\n",
       "    </tr>\n",
       "    <tr>\n",
       "      <th>5</th>\n",
       "      <td>16.0</td>\n",
       "      <td>13200</td>\n",
       "      <td>1</td>\n",
       "      <td>84</td>\n",
       "      <td>0</td>\n",
       "      <td>5</td>\n",
       "      <td>0</td>\n",
       "    </tr>\n",
       "    <tr>\n",
       "      <th>...</th>\n",
       "      <td>...</td>\n",
       "      <td>...</td>\n",
       "      <td>...</td>\n",
       "      <td>...</td>\n",
       "      <td>...</td>\n",
       "      <td>...</td>\n",
       "      <td>...</td>\n",
       "    </tr>\n",
       "    <tr>\n",
       "      <th>1048570</th>\n",
       "      <td>11.0</td>\n",
       "      <td>0</td>\n",
       "      <td>1</td>\n",
       "      <td>18</td>\n",
       "      <td>0</td>\n",
       "      <td>6</td>\n",
       "      <td>0</td>\n",
       "    </tr>\n",
       "    <tr>\n",
       "      <th>1048571</th>\n",
       "      <td>12.5</td>\n",
       "      <td>21400</td>\n",
       "      <td>1</td>\n",
       "      <td>61</td>\n",
       "      <td>1</td>\n",
       "      <td>1</td>\n",
       "      <td>20</td>\n",
       "    </tr>\n",
       "    <tr>\n",
       "      <th>1048572</th>\n",
       "      <td>14.0</td>\n",
       "      <td>54000</td>\n",
       "      <td>2</td>\n",
       "      <td>50</td>\n",
       "      <td>1</td>\n",
       "      <td>1</td>\n",
       "      <td>40</td>\n",
       "    </tr>\n",
       "    <tr>\n",
       "      <th>1048573</th>\n",
       "      <td>12.0</td>\n",
       "      <td>17900</td>\n",
       "      <td>1</td>\n",
       "      <td>19</td>\n",
       "      <td>0</td>\n",
       "      <td>6</td>\n",
       "      <td>29</td>\n",
       "    </tr>\n",
       "    <tr>\n",
       "      <th>1048574</th>\n",
       "      <td>0.0</td>\n",
       "      <td>43000</td>\n",
       "      <td>1</td>\n",
       "      <td>41</td>\n",
       "      <td>3</td>\n",
       "      <td>1</td>\n",
       "      <td>40</td>\n",
       "    </tr>\n",
       "  </tbody>\n",
       "</table>\n",
       "<p>840067 rows × 7 columns</p>\n",
       "</div>"
      ],
      "text/plain": [
       "         EDUC  INCTOT  SEX  AGE  NCHILD  MARST  UHRSWORK\n",
       "0        11.0    3450    1   56       0      1         5\n",
       "1        13.5   14000    2   61       0      1         0\n",
       "3        13.5   35000    1   61       0      4        40\n",
       "4         8.0    8800    2   52       0      4         0\n",
       "5        16.0   13200    1   84       0      5         0\n",
       "...       ...     ...  ...  ...     ...    ...       ...\n",
       "1048570  11.0       0    1   18       0      6         0\n",
       "1048571  12.5   21400    1   61       1      1        20\n",
       "1048572  14.0   54000    2   50       1      1        40\n",
       "1048573  12.0   17900    1   19       0      6        29\n",
       "1048574   0.0   43000    1   41       3      1        40\n",
       "\n",
       "[840067 rows x 7 columns]"
      ]
     },
     "execution_count": 73,
     "metadata": {},
     "output_type": "execute_result"
    }
   ],
   "source": [
    "doxod"
   ]
  },
  {
   "cell_type": "code",
   "execution_count": 74,
   "id": "0b179d43",
   "metadata": {},
   "outputs": [
    {
     "data": {
      "text/plain": [
       "38897.06544173746"
      ]
     },
     "execution_count": 74,
     "metadata": {},
     "output_type": "execute_result"
    }
   ],
   "source": [
    "df_dem['INCTOT'].mean()"
   ]
  },
  {
   "cell_type": "code",
   "execution_count": 112,
   "id": "de0849cb",
   "metadata": {},
   "outputs": [
    {
     "data": {
      "image/png": "[encoded data removed]",
      "text/plain": [
       "<Figure size 720x432 with 1 Axes>"
      ]
     },
     "metadata": {},
     "output_type": "display_data"
    }
   ],
   "source": [
    "plt.hist(doxod['INCTOT'], bins = 50)\n",
    "plt.xlabel('доход')\n",
    "plt.ylabel('кол-во респондентов')\n",
    "plt.xticks(np.arange(0, 160000, 20000));"
   ]
  },
  {
   "cell_type": "markdown",
   "id": "6eca55f7",
   "metadata": {},
   "source": [
    "Видим, что распределение выглядит вполне адекватно, за исключением огромного числа нулевых значений."
   ]
  },
  {
   "cell_type": "code",
   "execution_count": 77,
   "id": "5d6ce64f",
   "metadata": {},
   "outputs": [
    {
     "data": {
      "text/plain": [
       "128188"
      ]
     },
     "execution_count": 77,
     "metadata": {},
     "output_type": "execute_result"
    }
   ],
   "source": [
    "len(df_dem[(df_dem['INCTOT']==0)]) # кол-во респондентов с нулевым доходом"
   ]
  },
  {
   "cell_type": "markdown",
   "id": "43fc8edf",
   "metadata": {},
   "source": [
    "Нулевых значений очень много. Откуда они могли взяться? Возможно, они соответствуют неработающим респондентам? Проверим"
   ]
  },
  {
   "cell_type": "code",
   "execution_count": 79,
   "id": "50ae1580",
   "metadata": {},
   "outputs": [
    {
     "data": {
      "text/plain": [
       "128188"
      ]
     },
     "execution_count": 79,
     "metadata": {},
     "output_type": "execute_result"
    }
   ],
   "source": [
    "len(df_dem[(df_dem['INCTOT']==0) & (df_dem['UHRSWORK'] == 0)]) # кол-во респондентов, которые не работают и имеют нулевой доход"
   ]
  },
  {
   "cell_type": "markdown",
   "id": "dea5951a",
   "metadata": {},
   "source": [
    "Получается, все респонденты с нулевым доходом - это те, кто не работает. Их не так интересно изучать, так как на них не видно влияния образования на доход. Так что, создадим таблицу, в которой будут только респонденты с доходом > 0 (тех, чей доход < 0 мы тоже рассматривать не будем, к тому же, их достаточно мало)"
   ]
  },
  {
   "cell_type": "code",
   "execution_count": 90,
   "id": "610e6c5e",
   "metadata": {},
   "outputs": [
    {
     "data": {
      "text/plain": [
       "1945"
      ]
     },
     "execution_count": 90,
     "metadata": {},
     "output_type": "execute_result"
    }
   ],
   "source": [
    "len(df_dem[df_dem['INCTOT'] > 500000])"
   ]
  },
  {
   "cell_type": "markdown",
   "id": "823b59e6",
   "metadata": {},
   "source": [
    "Так как респондентов, чей годовой доход > 500 000$ мало, будем считать это выбросом и так же не будем включать их в нашу новую выборку "
   ]
  },
  {
   "cell_type": "code",
   "execution_count": 92,
   "id": "88fe2e83",
   "metadata": {},
   "outputs": [],
   "source": [
    "df_new = df_dem[(df_dem['INCTOT'] > 0) & (df_dem['INCTOT'] < 500000) ]"
   ]
  },
  {
   "cell_type": "code",
   "execution_count": 113,
   "id": "957bdc55",
   "metadata": {},
   "outputs": [
    {
     "data": {
      "image/png": "[encoded data removed]",
      "text/plain": [
       "<Figure size 720x432 with 1 Axes>"
      ]
     },
     "metadata": {},
     "output_type": "display_data"
    }
   ],
   "source": [
    "plt.hist(df_new['INCTOT'], bins = 50)\n",
    "plt.xlabel('доход')\n",
    "plt.ylabel('кол-во респондентов');\n"
   ]
  },
  {
   "cell_type": "markdown",
   "id": "2c051622",
   "metadata": {},
   "source": [
    "Мы немного подкорректировали нашу выборку, изучив данные по уровню образования и дохода. Теперь попробуем проанализировать зависимость этих двух величин друг от друга"
   ]
  },
  {
   "cell_type": "code",
   "execution_count": 114,
   "id": "7794e12a",
   "metadata": {},
   "outputs": [
    {
     "data": {
      "image/png": "[encoded data removed]",
      "text/plain": [
       "<Figure size 720x432 with 1 Axes>"
      ]
     },
     "metadata": {},
     "output_type": "display_data"
    }
   ],
   "source": [
    "plt.plot(df_new[['EDUC','INCTOT']].groupby(by = 'EDUC').mean())\n",
    "plt.xticks(np.arange(0, 23.5, 1.0))\n",
    "plt.xlabel('лет учёбы')\n",
    "plt.ylabel('средний доход');"
   ]
  },
  {
   "cell_type": "markdown",
   "id": "46a19e4e",
   "metadata": {},
   "source": [
    "Получившуюся картину можно интерпретировать так: \n",
    ">Без школьного образования - самый низкий доход, почти не зависящий от количества лет учёбы.\n",
    "\n",
    ">Окончание школы(12 лет) даёт значительный прирост дохода.\n",
    "\n",
    ">Даже неоконченное университетсткое образование, в среднем, соотносится с кратным ростом дохода.\n",
    "\n",
    ">Наибольший доход имеют респонденты, обладающие Магистерской(примерно, 18 лет учёбы суммарно) или профессиональной степенью(Professional degree beyond a bachelor's degree) - примерно, 19 лет учёбы суммарно."
   ]
  },
  {
   "cell_type": "markdown",
   "id": "cc745a25",
   "metadata": {},
   "source": [
    "Теперь посмотрим на другие демографические показатели"
   ]
  },
  {
   "cell_type": "code",
   "execution_count": 98,
   "id": "4dc09776",
   "metadata": {},
   "outputs": [
    {
     "data": {
      "text/plain": [
       "367336"
      ]
     },
     "execution_count": 98,
     "metadata": {},
     "output_type": "execute_result"
    }
   ],
   "source": [
    "len(df_new[df_new['SEX'] == 1]) # кол-во мужчин"
   ]
  },
  {
   "cell_type": "code",
   "execution_count": 99,
   "id": "f4752004",
   "metadata": {},
   "outputs": [
    {
     "data": {
      "text/plain": [
       "373512"
      ]
     },
     "execution_count": 99,
     "metadata": {},
     "output_type": "execute_result"
    }
   ],
   "source": [
    "len(df_new[df_new['SEX'] == 2]) # кол-во женщин"
   ]
  },
  {
   "cell_type": "markdown",
   "id": "9f726a06",
   "metadata": {},
   "source": [
    "Количесвто представителей каждого пола примерно одинаковое с небольшим перевесом в сторону женщин"
   ]
  },
  {
   "cell_type": "markdown",
   "id": "2c8841e9",
   "metadata": {},
   "source": [
    "Cравним средние доходы мужчин и женщин при одинаковых уровнях образования"
   ]
  },
  {
   "cell_type": "code",
   "execution_count": 105,
   "id": "161e0ff2",
   "metadata": {},
   "outputs": [],
   "source": [
    "df_new_m = df_new[df_new['SEX']==1] # Мужчины\n",
    "df_new_f = df_new[df_new['SEX']== 2] # Женщины\n",
    "m_earns = df_new_m[['EDUC','INCTOT']].groupby(by = 'EDUC').mean()# Средние доходы мужчин\n",
    "f_earns = df_new_f[['EDUC','INCTOT']].groupby(by = 'EDUC').mean()# Средние доходы женщин"
   ]
  },
  {
   "cell_type": "code",
   "execution_count": 115,
   "id": "82cf1913",
   "metadata": {},
   "outputs": [
    {
     "data": {
      "image/png": "[encoded data removed]",
      "text/plain": [
       "<Figure size 720x432 with 1 Axes>"
      ]
     },
     "metadata": {},
     "output_type": "display_data"
    }
   ],
   "source": [
    "plt.plot(m_earns)\n",
    "plt.plot(f_earns)\n",
    "plt.xticks(np.arange(0, 23.5, 1.0))\n",
    "plt.xlabel('лет учёбы')\n",
    "plt.ylabel('средний доход')\n",
    "plt.legend(['мужчины', 'женщины']);"
   ]
  },
  {
   "cell_type": "markdown",
   "id": "8a0029af",
   "metadata": {},
   "source": [
    "Интересно. А теперь посмотрим на отношение средних доходов женщин к средним доходам мужчин"
   ]
  },
  {
   "cell_type": "code",
   "execution_count": 116,
   "id": "24588cb7",
   "metadata": {},
   "outputs": [
    {
     "data": {
      "image/png": "[encoded data removed]",
      "text/plain": [
       "<Figure size 720x432 with 1 Axes>"
      ]
     },
     "metadata": {},
     "output_type": "display_data"
    }
   ],
   "source": [
    "plt.plot(100*(f_earns/m_earns))\n",
    "plt.xticks(np.arange(0, 23.5, 1.0))\n",
    "plt.xlabel('лет учёбы')\n",
    "plt.ylabel('Доход_Ж /Доход_М %'); # Доходы женщин к доходам мужчин в впроцентах"
   ]
  },
  {
   "cell_type": "markdown",
   "id": "511e97d8",
   "metadata": {},
   "source": [
    ">Женщины, в среднем, на каждом уровне образования получают меньший доход.\n",
    "\n",
    ">Причём наибольшая процентная разница наблюдается среди респондентов с низким уровнем образования (6 и меньше классов школы)\n",
    "\n",
    ">Наиболее близки к паритету доходы окончивших школу и имеющих PhD\n",
    "\n",
    ">У бакалавров и магистров процентная разница вновь возрастает\n",
    "\n",
    ">На уровне PhD соотношение зарплат стремиться к сокращению разрыва"
   ]
  },
  {
   "cell_type": "markdown",
   "id": "971ad0ab",
   "metadata": {},
   "source": [
    "__Предварительные итоги: Мы определилы примерные тенденции в отношениях между доходом и уровнем образования. Также было примерно определено влияние фактора пола респондента на зависимость дохода от оборазования__"
   ]
  },
  {
   "cell_type": "markdown",
   "id": "d3692d20",
   "metadata": {},
   "source": [
    "### Гипотезы"
   ]
  },
  {
   "cell_type": "markdown",
   "id": "e0c0f25b",
   "metadata": {},
   "source": [
    ">Доход респондента зависит от его пола\n",
    "\n",
    ">Доход респондента зависит от его образования"
   ]
  },
  {
   "cell_type": "markdown",
   "id": "6fb86d76",
   "metadata": {},
   "source": [
    "__Проведём корреляционный анализ зависимости дохода от образования__"
   ]
  },
  {
   "cell_type": "code",
   "execution_count": 153,
   "id": "1d3e9150",
   "metadata": {},
   "outputs": [
    {
     "data": {
      "text/plain": [
       "array([[1.        , 0.33512948],\n",
       "       [0.33512948, 1.        ]])"
      ]
     },
     "execution_count": 153,
     "metadata": {},
     "output_type": "execute_result"
    }
   ],
   "source": [
    "np.corrcoef(df_new['EDUC'], df_new['INCTOT'])"
   ]
  },
  {
   "cell_type": "markdown",
   "id": "96f02d21",
   "metadata": {},
   "source": [
    "Сожем наблюдать положительную зависимость"
   ]
  },
  {
   "cell_type": "markdown",
   "id": "432db4ed",
   "metadata": {},
   "source": [
    "__Проверим гипотезу о зависимости дохода респондента от его пола.__"
   ]
  },
  {
   "cell_type": "markdown",
   "id": "4af37dc7",
   "metadata": {},
   "source": [
    "H0: средний доход мужчины = средний доход женщины\n",
    "\n",
    "H1: средний доход мужчины != средний доход женщы"
   ]
  },
  {
   "cell_type": "markdown",
   "id": "69189ad7",
   "metadata": {},
   "source": [
    "Так как наша выборка достаточно велика, можем заключить, что средняя распределена нормально"
   ]
  },
  {
   "cell_type": "markdown",
   "id": "01614a90",
   "metadata": {},
   "source": [
    "Используем для проверки гипотезы z - статистику"
   ]
  },
  {
   "cell_type": "code",
   "execution_count": 126,
   "id": "a219a7f8",
   "metadata": {},
   "outputs": [],
   "source": [
    "m = df_new[df_new['SEX']== 1]['INCTOT']\n",
    "f = df_new[df_new['SEX']== 2]['INCTOT']"
   ]
  },
  {
   "cell_type": "code",
   "execution_count": 127,
   "id": "e4aad023",
   "metadata": {},
   "outputs": [],
   "source": [
    "m_mean = m.mean()\n",
    "f_mean = f.mean()"
   ]
  },
  {
   "cell_type": "code",
   "execution_count": 128,
   "id": "d0ff4b7a",
   "metadata": {},
   "outputs": [],
   "source": [
    "m_var = m.var(ddof = 1)\n",
    "f_var = f.var(ddof = 1)"
   ]
  },
  {
   "cell_type": "code",
   "execution_count": 129,
   "id": "8505ec5f",
   "metadata": {},
   "outputs": [],
   "source": [
    "z_stat = (m_mean-f_mean) / np.sqrt( (m_var/len(m)) + (f_var/len(f)) )"
   ]
  },
  {
   "cell_type": "code",
   "execution_count": 130,
   "id": "5b5bc318",
   "metadata": {},
   "outputs": [
    {
     "data": {
      "text/plain": [
       "140.0939816224688"
      ]
     },
     "execution_count": 130,
     "metadata": {},
     "output_type": "execute_result"
    }
   ],
   "source": [
    "z_stat"
   ]
  },
  {
   "cell_type": "code",
   "execution_count": 136,
   "id": "6f5a4552",
   "metadata": {},
   "outputs": [],
   "source": [
    "z_crit = st.norm.ppf(0.95) # берём правосторонный критерий, так как по предыдущим данным предполагаем, что доход мужчин выше"
   ]
  },
  {
   "cell_type": "code",
   "execution_count": 137,
   "id": "031d247d",
   "metadata": {},
   "outputs": [
    {
     "data": {
      "text/plain": [
       "1.6448536269514722"
      ]
     },
     "execution_count": 137,
     "metadata": {},
     "output_type": "execute_result"
    }
   ],
   "source": [
    "z_crit"
   ]
  },
  {
   "cell_type": "markdown",
   "id": "dae68a88",
   "metadata": {},
   "source": [
    "H0 - отвергается"
   ]
  },
  {
   "cell_type": "markdown",
   "id": "ef302f8e",
   "metadata": {},
   "source": [
    "То есть мы имеем статистическое подтверждение того, что пол респондента не не влияет на доход"
   ]
  },
  {
   "cell_type": "markdown",
   "id": "180ea43b",
   "metadata": {},
   "source": [
    "### Построение ML моделей "
   ]
  },
  {
   "cell_type": "markdown",
   "id": "8f12e76b",
   "metadata": {},
   "source": [
    "Попробуем предсказать доход респондента на основе количества лет учёбы"
   ]
  },
  {
   "cell_type": "code",
   "execution_count": 139,
   "id": "6b47cd7c",
   "metadata": {},
   "outputs": [],
   "source": [
    "from sklearn.model_selection import train_test_split\n",
    "df_train, df_test = train_test_split(df_new[['EDUC','INCTOT']],test_size =  0.2)"
   ]
  },
  {
   "cell_type": "code",
   "execution_count": 140,
   "id": "49cffd6d",
   "metadata": {},
   "outputs": [],
   "source": [
    "x_train = df_train['EDUC'].to_numpy().reshape(-1,1)\n",
    "y_train = df_train['INCTOT'].to_numpy().reshape(-1,1)\n",
    "x_test = df_test['EDUC'].to_numpy().reshape(-1,1)\n",
    "y_test = df_test['INCTOT'].to_numpy().reshape(-1,1)"
   ]
  },
  {
   "cell_type": "code",
   "execution_count": 141,
   "id": "c8225909",
   "metadata": {},
   "outputs": [],
   "source": [
    "from sklearn.linear_model import LinearRegression\n",
    "model_basic_linear = LinearRegression()"
   ]
  },
  {
   "cell_type": "code",
   "execution_count": 142,
   "id": "b47be305",
   "metadata": {},
   "outputs": [
    {
     "data": {
      "text/plain": [
       "LinearRegression()"
      ]
     },
     "execution_count": 142,
     "metadata": {},
     "output_type": "execute_result"
    }
   ],
   "source": [
    "model_basic_linear.fit(x_train,y_train)"
   ]
  },
  {
   "cell_type": "code",
   "execution_count": 143,
   "id": "c6a2e1f0",
   "metadata": {},
   "outputs": [],
   "source": [
    "predict_basic_linear = model_basic_linear.predict(x_test)"
   ]
  },
  {
   "cell_type": "code",
   "execution_count": 144,
   "id": "c6f696b3",
   "metadata": {},
   "outputs": [],
   "source": [
    "from sklearn.metrics import mean_absolute_percentage_error, mean_squared_error, mean_absolute_error"
   ]
  },
  {
   "cell_type": "code",
   "execution_count": 145,
   "id": "04d83f28",
   "metadata": {},
   "outputs": [
    {
     "name": "stdout",
     "output_type": "stream",
     "text": [
      "MAPE =  0.7952974417730861 \n",
      "\n",
      "MSE =  2806815901.474794 \n",
      "\n",
      "MAE =  31732.75435301051\n"
     ]
    }
   ],
   "source": [
    "print('MAPE = ',mean_absolute_percentage_error(predict_basic_linear,y_test), '\\n')\n",
    "print('MSE = ', mean_squared_error(predict_basic_linear,y_test), '\\n')\n",
    "print('MAE = ', mean_absolute_error(predict_basic_linear,y_test))"
   ]
  },
  {
   "cell_type": "code",
   "execution_count": 150,
   "id": "cff2d6ff",
   "metadata": {},
   "outputs": [
    {
     "data": {
      "text/plain": [
       "100"
      ]
     },
     "execution_count": 150,
     "metadata": {},
     "output_type": "execute_result"
    }
   ],
   "source": [
    "(np.linspace(0,24,100)*model_basic_linear.coef_+ model_basic_linear.intercept_).reshape(-1,1)"
   ]
  },
  {
   "cell_type": "code",
   "execution_count": 152,
   "id": "ce196b99",
   "metadata": {},
   "outputs": [
    {
     "data": {
      "image/png": "[encoded data removed]",
      "text/plain": [
       "<Figure size 720x432 with 1 Axes>"
      ]
     },
     "metadata": {},
     "output_type": "display_data"
    }
   ],
   "source": [
    "plt.plot(df_new[['EDUC','INCTOT']].groupby(by = 'EDUC').mean()) # Средний доход от лет учёбы\n",
    "plt.plot(np.linspace(0,24,100), (np.linspace(0,24,100)*model_basic_linear.coef_ + model_basic_linear.intercept_).reshape(-1,1))\n",
    "plt.xlabel('лет учёбы')\n",
    "plt.ylabel('доход');\n"
   ]
  }
 ],
 "metadata": {
  "kernelspec": {
   "display_name": "Python 3 (ipykernel)",
   "language": "python",
   "name": "python3"
  },
  "language_info": {
   "codemirror_mode": {
    "name": "ipython",
    "version": 3
   },
   "file_extension": ".py",
   "mimetype": "text/x-python",
   "name": "python",
   "nbconvert_exporter": "python",
   "pygments_lexer": "ipython3",
   "version": "3.9.7"
  }
 },
 "nbformat": 4,
 "nbformat_minor": 5
}
