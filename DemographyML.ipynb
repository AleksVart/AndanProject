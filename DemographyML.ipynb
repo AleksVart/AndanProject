{
 "cells": [
  {
   "cell_type": "markdown",
   "id": "5383c230",
   "metadata": {},
   "source": [
    "Есть такой сайт IPUMS, который под покровительством университета Миннесоты занимается сбором, обработкой и публикацией данных различных переписей населения. Фишка в том, что там есть данные по каждому респонденту переписи по многим вопросам (от наличия стиральной машины в домохозяействе до уровня образования и количества детей респондента). По этим данным можно выявлять довольно интересные и неочевидные закономерности, поэтому давайте попробуем обучить на этих данных какие-нибудь ML модели."
   ]
  },
  {
   "cell_type": "markdown",
   "id": "30ebc12a",
   "metadata": {},
   "source": [
    "Для начала, давайте возьмём данные переписи США 2015 года. В вопросном листе этой переписи присутствовали вопросы об уровне годового дохода. Давайте попробуем предсказывать уровень дохода человека, основываясь на каких-нибудь других признаках (например, уровень образования, пол, семейное положение)"
   ]
  },
  {
   "cell_type": "markdown",
   "id": "76975b59",
   "metadata": {},
   "source": [
    "## Работа с данными"
   ]
  },
  {
   "cell_type": "code",
   "execution_count": 20,
   "id": "2417d0da",
   "metadata": {},
   "outputs": [],
   "source": [
    "import pandas as pd\n",
    "import matplotlib.pyplot as plt\n",
    "import numpy as np\n",
    "random_state = 9"
   ]
  },
  {
   "cell_type": "code",
   "execution_count": 21,
   "id": "29f9856e",
   "metadata": {},
   "outputs": [],
   "source": [
    "df_dem = pd.read_excel('/Users/aleksandrvartanov/Desktop/АНДАН/US_2015.xlsx')"
   ]
  },
  {
   "cell_type": "code",
   "execution_count": 24,
   "id": "8d18449e",
   "metadata": {},
   "outputs": [
    {
     "data": {
      "text/html": [
       "<div>\n",
       "<style scoped>\n",
       "    .dataframe tbody tr th:only-of-type {\n",
       "        vertical-align: middle;\n",
       "    }\n",
       "\n",
       "    .dataframe tbody tr th {\n",
       "        vertical-align: top;\n",
       "    }\n",
       "\n",
       "    .dataframe thead th {\n",
       "        text-align: right;\n",
       "    }\n",
       "</style>\n",
       "<table border=\"1\" class=\"dataframe\">\n",
       "  <thead>\n",
       "    <tr style=\"text-align: right;\">\n",
       "      <th></th>\n",
       "      <th>US2015A_EDUC</th>\n",
       "      <th>US2015A_INCTOT</th>\n",
       "      <th>US2015A_SEX</th>\n",
       "      <th>US2015A_AGE</th>\n",
       "      <th>US2015A_NCHILD</th>\n",
       "      <th>US2015A_MARST</th>\n",
       "      <th>US2015A_UHRSWORK</th>\n",
       "    </tr>\n",
       "  </thead>\n",
       "  <tbody>\n",
       "    <tr>\n",
       "      <th>count</th>\n",
       "      <td>1.048575e+06</td>\n",
       "      <td>1.048575e+06</td>\n",
       "      <td>1.048575e+06</td>\n",
       "      <td>1.048575e+06</td>\n",
       "      <td>1.048575e+06</td>\n",
       "      <td>1.048575e+06</td>\n",
       "      <td>1.048575e+06</td>\n",
       "    </tr>\n",
       "    <tr>\n",
       "      <th>mean</th>\n",
       "      <td>6.309909e+01</td>\n",
       "      <td>1.719956e+06</td>\n",
       "      <td>1.511336e+00</td>\n",
       "      <td>4.102650e+01</td>\n",
       "      <td>5.002170e-01</td>\n",
       "      <td>3.648573e+00</td>\n",
       "      <td>1.898217e+01</td>\n",
       "    </tr>\n",
       "    <tr>\n",
       "      <th>std</th>\n",
       "      <td>3.259213e+01</td>\n",
       "      <td>3.731263e+06</td>\n",
       "      <td>4.998717e-01</td>\n",
       "      <td>2.353541e+01</td>\n",
       "      <td>9.482776e-01</td>\n",
       "      <td>2.302782e+00</td>\n",
       "      <td>2.115208e+01</td>\n",
       "    </tr>\n",
       "    <tr>\n",
       "      <th>min</th>\n",
       "      <td>1.000000e+00</td>\n",
       "      <td>-1.120000e+04</td>\n",
       "      <td>1.000000e+00</td>\n",
       "      <td>0.000000e+00</td>\n",
       "      <td>0.000000e+00</td>\n",
       "      <td>1.000000e+00</td>\n",
       "      <td>0.000000e+00</td>\n",
       "    </tr>\n",
       "    <tr>\n",
       "      <th>25%</th>\n",
       "      <td>4.000000e+01</td>\n",
       "      <td>9.600000e+03</td>\n",
       "      <td>1.000000e+00</td>\n",
       "      <td>2.100000e+01</td>\n",
       "      <td>0.000000e+00</td>\n",
       "      <td>1.000000e+00</td>\n",
       "      <td>0.000000e+00</td>\n",
       "    </tr>\n",
       "    <tr>\n",
       "      <th>50%</th>\n",
       "      <td>6.400000e+01</td>\n",
       "      <td>3.000000e+04</td>\n",
       "      <td>2.000000e+00</td>\n",
       "      <td>4.200000e+01</td>\n",
       "      <td>0.000000e+00</td>\n",
       "      <td>4.000000e+00</td>\n",
       "      <td>0.000000e+00</td>\n",
       "    </tr>\n",
       "    <tr>\n",
       "      <th>75%</th>\n",
       "      <td>8.100000e+01</td>\n",
       "      <td>9.000000e+04</td>\n",
       "      <td>2.000000e+00</td>\n",
       "      <td>6.000000e+01</td>\n",
       "      <td>1.000000e+00</td>\n",
       "      <td>6.000000e+00</td>\n",
       "      <td>4.000000e+01</td>\n",
       "    </tr>\n",
       "    <tr>\n",
       "      <th>max</th>\n",
       "      <td>1.160000e+02</td>\n",
       "      <td>9.999999e+06</td>\n",
       "      <td>2.000000e+00</td>\n",
       "      <td>9.700000e+01</td>\n",
       "      <td>9.000000e+00</td>\n",
       "      <td>6.000000e+00</td>\n",
       "      <td>9.900000e+01</td>\n",
       "    </tr>\n",
       "  </tbody>\n",
       "</table>\n",
       "</div>"
      ],
      "text/plain": [
       "       US2015A_EDUC  US2015A_INCTOT   US2015A_SEX   US2015A_AGE  \\\n",
       "count  1.048575e+06    1.048575e+06  1.048575e+06  1.048575e+06   \n",
       "mean   6.309909e+01    1.719956e+06  1.511336e+00  4.102650e+01   \n",
       "std    3.259213e+01    3.731263e+06  4.998717e-01  2.353541e+01   \n",
       "min    1.000000e+00   -1.120000e+04  1.000000e+00  0.000000e+00   \n",
       "25%    4.000000e+01    9.600000e+03  1.000000e+00  2.100000e+01   \n",
       "50%    6.400000e+01    3.000000e+04  2.000000e+00  4.200000e+01   \n",
       "75%    8.100000e+01    9.000000e+04  2.000000e+00  6.000000e+01   \n",
       "max    1.160000e+02    9.999999e+06  2.000000e+00  9.700000e+01   \n",
       "\n",
       "       US2015A_NCHILD  US2015A_MARST  US2015A_UHRSWORK  \n",
       "count    1.048575e+06   1.048575e+06      1.048575e+06  \n",
       "mean     5.002170e-01   3.648573e+00      1.898217e+01  \n",
       "std      9.482776e-01   2.302782e+00      2.115208e+01  \n",
       "min      0.000000e+00   1.000000e+00      0.000000e+00  \n",
       "25%      0.000000e+00   1.000000e+00      0.000000e+00  \n",
       "50%      0.000000e+00   4.000000e+00      0.000000e+00  \n",
       "75%      1.000000e+00   6.000000e+00      4.000000e+01  \n",
       "max      9.000000e+00   6.000000e+00      9.900000e+01  "
      ]
     },
     "execution_count": 24,
     "metadata": {},
     "output_type": "execute_result"
    }
   ],
   "source": [
    "df_dem.describe()"
   ]
  },
  {
   "cell_type": "code",
   "execution_count": 25,
   "id": "7c9f98c8",
   "metadata": {},
   "outputs": [],
   "source": [
    "df_dem.columns = ['EDUC','INCTOT','SEX', 'AGE', 'NCHILD', 'MARST', 'UHRSWORK' ] # Столбцы: уровень образования(зашифрован), годовой доход, пол, кол-во детей, семейное положение(зашифровано), время работы/месяц"
   ]
  },
  {
   "cell_type": "code",
   "execution_count": 26,
   "id": "1bd80325",
   "metadata": {},
   "outputs": [
    {
     "data": {
      "text/html": [
       "<div>\n",
       "<style scoped>\n",
       "    .dataframe tbody tr th:only-of-type {\n",
       "        vertical-align: middle;\n",
       "    }\n",
       "\n",
       "    .dataframe tbody tr th {\n",
       "        vertical-align: top;\n",
       "    }\n",
       "\n",
       "    .dataframe thead th {\n",
       "        text-align: right;\n",
       "    }\n",
       "</style>\n",
       "<table border=\"1\" class=\"dataframe\">\n",
       "  <thead>\n",
       "    <tr style=\"text-align: right;\">\n",
       "      <th></th>\n",
       "      <th>EDUC</th>\n",
       "      <th>INCTOT</th>\n",
       "      <th>SEX</th>\n",
       "      <th>AGE</th>\n",
       "      <th>NCHILD</th>\n",
       "      <th>MARST</th>\n",
       "      <th>UHRSWORK</th>\n",
       "    </tr>\n",
       "  </thead>\n",
       "  <tbody>\n",
       "    <tr>\n",
       "      <th>0</th>\n",
       "      <td>50</td>\n",
       "      <td>3450</td>\n",
       "      <td>1</td>\n",
       "      <td>56</td>\n",
       "      <td>0</td>\n",
       "      <td>1</td>\n",
       "      <td>5</td>\n",
       "    </tr>\n",
       "    <tr>\n",
       "      <th>1</th>\n",
       "      <td>71</td>\n",
       "      <td>14000</td>\n",
       "      <td>2</td>\n",
       "      <td>61</td>\n",
       "      <td>0</td>\n",
       "      <td>1</td>\n",
       "      <td>0</td>\n",
       "    </tr>\n",
       "    <tr>\n",
       "      <th>2</th>\n",
       "      <td>15</td>\n",
       "      <td>9999999</td>\n",
       "      <td>2</td>\n",
       "      <td>8</td>\n",
       "      <td>0</td>\n",
       "      <td>6</td>\n",
       "      <td>0</td>\n",
       "    </tr>\n",
       "    <tr>\n",
       "      <th>3</th>\n",
       "      <td>71</td>\n",
       "      <td>35000</td>\n",
       "      <td>1</td>\n",
       "      <td>61</td>\n",
       "      <td>0</td>\n",
       "      <td>4</td>\n",
       "      <td>40</td>\n",
       "    </tr>\n",
       "    <tr>\n",
       "      <th>4</th>\n",
       "      <td>26</td>\n",
       "      <td>8800</td>\n",
       "      <td>2</td>\n",
       "      <td>52</td>\n",
       "      <td>0</td>\n",
       "      <td>4</td>\n",
       "      <td>0</td>\n",
       "    </tr>\n",
       "    <tr>\n",
       "      <th>...</th>\n",
       "      <td>...</td>\n",
       "      <td>...</td>\n",
       "      <td>...</td>\n",
       "      <td>...</td>\n",
       "      <td>...</td>\n",
       "      <td>...</td>\n",
       "      <td>...</td>\n",
       "    </tr>\n",
       "    <tr>\n",
       "      <th>1048570</th>\n",
       "      <td>50</td>\n",
       "      <td>0</td>\n",
       "      <td>1</td>\n",
       "      <td>18</td>\n",
       "      <td>0</td>\n",
       "      <td>6</td>\n",
       "      <td>0</td>\n",
       "    </tr>\n",
       "    <tr>\n",
       "      <th>1048571</th>\n",
       "      <td>65</td>\n",
       "      <td>21400</td>\n",
       "      <td>1</td>\n",
       "      <td>61</td>\n",
       "      <td>1</td>\n",
       "      <td>1</td>\n",
       "      <td>20</td>\n",
       "    </tr>\n",
       "    <tr>\n",
       "      <th>1048572</th>\n",
       "      <td>81</td>\n",
       "      <td>54000</td>\n",
       "      <td>2</td>\n",
       "      <td>50</td>\n",
       "      <td>1</td>\n",
       "      <td>1</td>\n",
       "      <td>40</td>\n",
       "    </tr>\n",
       "    <tr>\n",
       "      <th>1048573</th>\n",
       "      <td>63</td>\n",
       "      <td>17900</td>\n",
       "      <td>1</td>\n",
       "      <td>19</td>\n",
       "      <td>0</td>\n",
       "      <td>6</td>\n",
       "      <td>29</td>\n",
       "    </tr>\n",
       "    <tr>\n",
       "      <th>1048574</th>\n",
       "      <td>2</td>\n",
       "      <td>43000</td>\n",
       "      <td>1</td>\n",
       "      <td>41</td>\n",
       "      <td>3</td>\n",
       "      <td>1</td>\n",
       "      <td>40</td>\n",
       "    </tr>\n",
       "  </tbody>\n",
       "</table>\n",
       "<p>1048575 rows × 7 columns</p>\n",
       "</div>"
      ],
      "text/plain": [
       "         EDUC   INCTOT  SEX  AGE  NCHILD  MARST  UHRSWORK\n",
       "0          50     3450    1   56       0      1         5\n",
       "1          71    14000    2   61       0      1         0\n",
       "2          15  9999999    2    8       0      6         0\n",
       "3          71    35000    1   61       0      4        40\n",
       "4          26     8800    2   52       0      4         0\n",
       "...       ...      ...  ...  ...     ...    ...       ...\n",
       "1048570    50        0    1   18       0      6         0\n",
       "1048571    65    21400    1   61       1      1        20\n",
       "1048572    81    54000    2   50       1      1        40\n",
       "1048573    63    17900    1   19       0      6        29\n",
       "1048574     2    43000    1   41       3      1        40\n",
       "\n",
       "[1048575 rows x 7 columns]"
      ]
     },
     "execution_count": 26,
     "metadata": {},
     "output_type": "execute_result"
    }
   ],
   "source": [
    "df_dem"
   ]
  },
  {
   "cell_type": "markdown",
   "id": "52308bbb",
   "metadata": {},
   "source": [
    "Для более удобного построения регрессионной модели переведём имеющийся у респондента уровень образования в среднее кол-во лет необходимое для его получения."
   ]
  },
  {
   "cell_type": "markdown",
   "id": "9ff7643a",
   "metadata": {},
   "source": [
    "Код 1 в графе \"уровень образования\" обозначает - NIU (not in universe), то есть, респондент не подходит под критерии выборки(например, так как младше 3х лет). Данные по этим респондентам нам ни к чему. Удалим их."
   ]
  },
  {
   "cell_type": "code",
   "execution_count": 27,
   "id": "c78bc0e0",
   "metadata": {},
   "outputs": [
    {
     "data": {
      "text/plain": [
       "31647"
      ]
     },
     "execution_count": 27,
     "metadata": {},
     "output_type": "execute_result"
    }
   ],
   "source": [
    "len(df_dem[df_dem['EDUC']== 1]) # Нашли число респондентов, для которых уровень образования не определён"
   ]
  },
  {
   "cell_type": "markdown",
   "id": "8b5e5dbb",
   "metadata": {},
   "source": [
    "Так как респондентов с неопределённым уровнем образования оказалось всего 31647 (из более чем миллиона респондентов), удалим данные по этим респондентам."
   ]
  },
  {
   "cell_type": "code",
   "execution_count": 28,
   "id": "89b606d5",
   "metadata": {},
   "outputs": [],
   "source": [
    "df_dem = df_dem.drop(df_dem[df_dem['EDUC']== 1].index, axis = 0)"
   ]
  },
  {
   "cell_type": "code",
   "execution_count": 29,
   "id": "af030a6f",
   "metadata": {},
   "outputs": [
    {
     "data": {
      "text/html": [
       "<div>\n",
       "<style scoped>\n",
       "    .dataframe tbody tr th:only-of-type {\n",
       "        vertical-align: middle;\n",
       "    }\n",
       "\n",
       "    .dataframe tbody tr th {\n",
       "        vertical-align: top;\n",
       "    }\n",
       "\n",
       "    .dataframe thead th {\n",
       "        text-align: right;\n",
       "    }\n",
       "</style>\n",
       "<table border=\"1\" class=\"dataframe\">\n",
       "  <thead>\n",
       "    <tr style=\"text-align: right;\">\n",
       "      <th></th>\n",
       "      <th>EDUC</th>\n",
       "      <th>INCTOT</th>\n",
       "      <th>SEX</th>\n",
       "      <th>AGE</th>\n",
       "      <th>NCHILD</th>\n",
       "      <th>MARST</th>\n",
       "      <th>UHRSWORK</th>\n",
       "    </tr>\n",
       "  </thead>\n",
       "  <tbody>\n",
       "  </tbody>\n",
       "</table>\n",
       "</div>"
      ],
      "text/plain": [
       "Empty DataFrame\n",
       "Columns: [EDUC, INCTOT, SEX, AGE, NCHILD, MARST, UHRSWORK]\n",
       "Index: []"
      ]
     },
     "execution_count": 29,
     "metadata": {},
     "output_type": "execute_result"
    }
   ],
   "source": [
    "df_dem[df_dem['EDUC']== 1]"
   ]
  },
  {
   "cell_type": "markdown",
   "id": "b5646a5f",
   "metadata": {},
   "source": [
    "Теперь почистим данные о доходах. Доход обозначается числом долларов, заработанным в год. Кроме того кодом кодом 9999999 обозначаются данные по доходам респондентов, не подходящие под выборку (младше 15 лет)."
   ]
  },
  {
   "cell_type": "code",
   "execution_count": 30,
   "id": "2448115b",
   "metadata": {},
   "outputs": [
    {
     "data": {
      "text/plain": [
       "145313"
      ]
     },
     "execution_count": 30,
     "metadata": {},
     "output_type": "execute_result"
    }
   ],
   "source": [
    "len(df_dem[df_dem['INCTOT']== 9999999])"
   ]
  },
  {
   "cell_type": "code",
   "execution_count": 31,
   "id": "0581565f",
   "metadata": {},
   "outputs": [
    {
     "data": {
      "text/plain": [
       "145313"
      ]
     },
     "execution_count": 31,
     "metadata": {},
     "output_type": "execute_result"
    }
   ],
   "source": [
    "len(df_dem[(df_dem['INCTOT']== 9999999) & (df_dem['AGE'] < 15)])"
   ]
  },
  {
   "cell_type": "markdown",
   "id": "501baa84",
   "metadata": {},
   "source": [
    "Видим, что все респонденты со значением 9999999 в графе \"доход\" - младше 15 лет. То есть, можно спокойно удалить эти данные из таблицы, не боясь случайно убрать оттуда людей, в самом деле, имеющий годовой доход от 10 миллионов $, если такие каким-то образом оказались бы в таблице."
   ]
  },
  {
   "cell_type": "code",
   "execution_count": 32,
   "id": "2f4d5ef8",
   "metadata": {},
   "outputs": [],
   "source": [
    "df_dem = df_dem.drop(df_dem[(df_dem['INCTOT']== 9999999)].index, axis = 0)"
   ]
  },
  {
   "cell_type": "code",
   "execution_count": 33,
   "id": "d433ab73",
   "metadata": {},
   "outputs": [
    {
     "data": {
      "text/plain": [
       "0"
      ]
     },
     "execution_count": 33,
     "metadata": {},
     "output_type": "execute_result"
    }
   ],
   "source": [
    "len(df_dem[(df_dem['INCTOT']== 9999999) & (df_dem['AGE'] < 15)])"
   ]
  },
  {
   "cell_type": "code",
   "execution_count": 34,
   "id": "ec41e304",
   "metadata": {},
   "outputs": [
    {
     "data": {
      "text/html": [
       "<div>\n",
       "<style scoped>\n",
       "    .dataframe tbody tr th:only-of-type {\n",
       "        vertical-align: middle;\n",
       "    }\n",
       "\n",
       "    .dataframe tbody tr th {\n",
       "        vertical-align: top;\n",
       "    }\n",
       "\n",
       "    .dataframe thead th {\n",
       "        text-align: right;\n",
       "    }\n",
       "</style>\n",
       "<table border=\"1\" class=\"dataframe\">\n",
       "  <thead>\n",
       "    <tr style=\"text-align: right;\">\n",
       "      <th></th>\n",
       "      <th>EDUC</th>\n",
       "      <th>INCTOT</th>\n",
       "      <th>SEX</th>\n",
       "      <th>AGE</th>\n",
       "      <th>NCHILD</th>\n",
       "      <th>MARST</th>\n",
       "      <th>UHRSWORK</th>\n",
       "    </tr>\n",
       "  </thead>\n",
       "  <tbody>\n",
       "    <tr>\n",
       "      <th>0</th>\n",
       "      <td>50</td>\n",
       "      <td>3450</td>\n",
       "      <td>1</td>\n",
       "      <td>56</td>\n",
       "      <td>0</td>\n",
       "      <td>1</td>\n",
       "      <td>5</td>\n",
       "    </tr>\n",
       "    <tr>\n",
       "      <th>1</th>\n",
       "      <td>71</td>\n",
       "      <td>14000</td>\n",
       "      <td>2</td>\n",
       "      <td>61</td>\n",
       "      <td>0</td>\n",
       "      <td>1</td>\n",
       "      <td>0</td>\n",
       "    </tr>\n",
       "    <tr>\n",
       "      <th>3</th>\n",
       "      <td>71</td>\n",
       "      <td>35000</td>\n",
       "      <td>1</td>\n",
       "      <td>61</td>\n",
       "      <td>0</td>\n",
       "      <td>4</td>\n",
       "      <td>40</td>\n",
       "    </tr>\n",
       "    <tr>\n",
       "      <th>4</th>\n",
       "      <td>26</td>\n",
       "      <td>8800</td>\n",
       "      <td>2</td>\n",
       "      <td>52</td>\n",
       "      <td>0</td>\n",
       "      <td>4</td>\n",
       "      <td>0</td>\n",
       "    </tr>\n",
       "    <tr>\n",
       "      <th>5</th>\n",
       "      <td>101</td>\n",
       "      <td>13200</td>\n",
       "      <td>1</td>\n",
       "      <td>84</td>\n",
       "      <td>0</td>\n",
       "      <td>5</td>\n",
       "      <td>0</td>\n",
       "    </tr>\n",
       "    <tr>\n",
       "      <th>...</th>\n",
       "      <td>...</td>\n",
       "      <td>...</td>\n",
       "      <td>...</td>\n",
       "      <td>...</td>\n",
       "      <td>...</td>\n",
       "      <td>...</td>\n",
       "      <td>...</td>\n",
       "    </tr>\n",
       "    <tr>\n",
       "      <th>1048570</th>\n",
       "      <td>50</td>\n",
       "      <td>0</td>\n",
       "      <td>1</td>\n",
       "      <td>18</td>\n",
       "      <td>0</td>\n",
       "      <td>6</td>\n",
       "      <td>0</td>\n",
       "    </tr>\n",
       "    <tr>\n",
       "      <th>1048571</th>\n",
       "      <td>65</td>\n",
       "      <td>21400</td>\n",
       "      <td>1</td>\n",
       "      <td>61</td>\n",
       "      <td>1</td>\n",
       "      <td>1</td>\n",
       "      <td>20</td>\n",
       "    </tr>\n",
       "    <tr>\n",
       "      <th>1048572</th>\n",
       "      <td>81</td>\n",
       "      <td>54000</td>\n",
       "      <td>2</td>\n",
       "      <td>50</td>\n",
       "      <td>1</td>\n",
       "      <td>1</td>\n",
       "      <td>40</td>\n",
       "    </tr>\n",
       "    <tr>\n",
       "      <th>1048573</th>\n",
       "      <td>63</td>\n",
       "      <td>17900</td>\n",
       "      <td>1</td>\n",
       "      <td>19</td>\n",
       "      <td>0</td>\n",
       "      <td>6</td>\n",
       "      <td>29</td>\n",
       "    </tr>\n",
       "    <tr>\n",
       "      <th>1048574</th>\n",
       "      <td>2</td>\n",
       "      <td>43000</td>\n",
       "      <td>1</td>\n",
       "      <td>41</td>\n",
       "      <td>3</td>\n",
       "      <td>1</td>\n",
       "      <td>40</td>\n",
       "    </tr>\n",
       "  </tbody>\n",
       "</table>\n",
       "<p>871615 rows × 7 columns</p>\n",
       "</div>"
      ],
      "text/plain": [
       "         EDUC  INCTOT  SEX  AGE  NCHILD  MARST  UHRSWORK\n",
       "0          50    3450    1   56       0      1         5\n",
       "1          71   14000    2   61       0      1         0\n",
       "3          71   35000    1   61       0      4        40\n",
       "4          26    8800    2   52       0      4         0\n",
       "5         101   13200    1   84       0      5         0\n",
       "...       ...     ...  ...  ...     ...    ...       ...\n",
       "1048570    50       0    1   18       0      6         0\n",
       "1048571    65   21400    1   61       1      1        20\n",
       "1048572    81   54000    2   50       1      1        40\n",
       "1048573    63   17900    1   19       0      6        29\n",
       "1048574     2   43000    1   41       3      1        40\n",
       "\n",
       "[871615 rows x 7 columns]"
      ]
     },
     "execution_count": 34,
     "metadata": {},
     "output_type": "execute_result"
    }
   ],
   "source": [
    "df_dem"
   ]
  },
  {
   "cell_type": "markdown",
   "id": "c7a9fa8e",
   "metadata": {},
   "source": [
    "Теперь заменим закодированный уровень образования на среднее число лет, необходимое для его получения. Таким образом, мы сможем потом обучить по этим данным линейную регрессию. "
   ]
  },
  {
   "cell_type": "markdown",
   "id": "289168f6",
   "metadata": {},
   "source": [
    "2\tNo schooling completed\t0\n",
    "\n",
    "11\tNursery school, preschool\t0\n",
    "\n",
    "12\tKindergarten\t0\n",
    "\n",
    "14\tGrade 1\t1\n",
    "\n",
    "15\tGrade 2\t2\n",
    "\n",
    "16\tGrade 3\t3\n",
    "\n",
    "17\tGrade 4\t4\n",
    "\n",
    "22\tGrade 5\t5\n",
    "\n",
    "23\tGrade 6\t6\n",
    "\n",
    "25\tGrade 7\t7\n",
    "\n",
    "26\tGrade 8\t8\n",
    "\n",
    "30\tGrade 9\t9\n",
    "\n",
    "40\tGrade 10\t10\n",
    "\n",
    "50\tGrade 11\t11\n",
    "\n",
    "61\t12th grade, no diploma\t12\n",
    "\n",
    "63\tRegular high school diploma\t12\n",
    "\n",
    "64\tGED or alternative credential\t12\n",
    "\n",
    "65\tSome college, but less than 1 year\t12,5\n",
    "\n",
    "71\t1 or more years of college credit, no degree\t13,5\n",
    "\n",
    "81\tAssociate's degree, type not specified\t14\n",
    "\n",
    "101\tBachelor's degree\t16\n",
    "\n",
    "114\tMaster's degree\t18\n",
    "\n",
    "115\tProfessional degree beyond a bachelor's degree\t19\n",
    "\n",
    "116\tDoctoral degree\t23,5"
   ]
  },
  {
   "cell_type": "code",
   "execution_count": 35,
   "id": "3b3a4bdf",
   "metadata": {},
   "outputs": [],
   "source": [
    "df_dem['EDUC'] = df_dem['EDUC'].replace([2,11,12,14,15,16,17,22,23,25,26,30,40,50,61,63,64,65,71,81,101,114,115,116], [0,0,0,1,2,3,4,5,6,7,8,9,10,11,12,12,12,12.5,13.5,14,16,18,19,23.5])"
   ]
  },
  {
   "cell_type": "markdown",
   "id": "a07b3c07",
   "metadata": {},
   "source": [
    "## Некоторые картинки"
   ]
  },
  {
   "cell_type": "markdown",
   "id": "e3ca5507",
   "metadata": {},
   "source": [
    "Посмотрим на расапределение людей, по кол-ву лет учёбы:"
   ]
  },
  {
   "cell_type": "code",
   "execution_count": 58,
   "id": "51cfcc9b",
   "metadata": {},
   "outputs": [
    {
     "data": {
      "text/plain": [
       "Text(0, 0.5, 'кол-во респондентов')"
      ]
     },
     "execution_count": 58,
     "metadata": {},
     "output_type": "execute_result"
    },
    {
     "data": {
      "image/png": "[encoded data removed]",
      "text/plain": [
       "<Figure size 432x288 with 1 Axes>"
      ]
     },
     "metadata": {
      "needs_background": "light"
     },
     "output_type": "display_data"
    }
   ],
   "source": [
    "plt.hist(df_dem['EDUC'], bins = 10 );\n",
    "plt.xlabel('лет учёбы')\n",
    "plt.ylabel('кол-во респондентов')"
   ]
  },
  {
   "cell_type": "markdown",
   "id": "2203357c",
   "metadata": {},
   "source": [
    "Посмотри теперь на эти же данные, но разделим людей по полу"
   ]
  },
  {
   "cell_type": "code",
   "execution_count": 59,
   "id": "55c6e865",
   "metadata": {},
   "outputs": [
    {
     "data": {
      "text/plain": [
       "Text(0, 0.5, 'кол-во респондентов')"
      ]
     },
     "execution_count": 59,
     "metadata": {},
     "output_type": "execute_result"
    },
    {
     "data": {
      "image/png": "[encoded data removed]",
      "text/plain": [
       "<Figure size 432x288 with 1 Axes>"
      ]
     },
     "metadata": {
      "needs_background": "light"
     },
     "output_type": "display_data"
    }
   ],
   "source": [
    "plt.hist(df_dem[df_dem['SEX'] == 1]['EDUC'], bins = 10 ); # Мужчины\n",
    "plt.xlabel('лет учёбы')\n",
    "plt.ylabel('кол-во респондентов')"
   ]
  },
  {
   "cell_type": "code",
   "execution_count": 60,
   "id": "6ec05dda",
   "metadata": {},
   "outputs": [
    {
     "data": {
      "text/plain": [
       "Text(0, 0.5, 'кол-во респондентов')"
      ]
     },
     "execution_count": 60,
     "metadata": {},
     "output_type": "execute_result"
    },
    {
     "data": {
      "image/png": "[encoded data removed]",
      "text/plain": [
       "<Figure size 432x288 with 1 Axes>"
      ]
     },
     "metadata": {
      "needs_background": "light"
     },
     "output_type": "display_data"
    }
   ],
   "source": [
    "plt.hist(df_dem[df_dem['SEX'] == 2]['EDUC'], bins = 10 ); #Женщины\n",
    "plt.xlabel('лет учёбы')\n",
    "plt.ylabel('кол-во респондентов')"
   ]
  },
  {
   "cell_type": "markdown",
   "id": "89a49505",
   "metadata": {},
   "source": [
    "Распределения выглядят похоже для обоих полов"
   ]
  },
  {
   "cell_type": "code",
   "execution_count": 63,
   "id": "c5b3a47f",
   "metadata": {},
   "outputs": [
    {
     "data": {
      "text/plain": [
       "Text(0, 0.5, 'средний доход')"
      ]
     },
     "execution_count": 63,
     "metadata": {},
     "output_type": "execute_result"
    },
    {
     "data": {
      "image/png": "[encoded data removed]",
      "text/plain": [
       "<Figure size 432x288 with 1 Axes>"
      ]
     },
     "metadata": {
      "needs_background": "light"
     },
     "output_type": "display_data"
    }
   ],
   "source": [
    "plt.plot(df_dem[['EDUC','INCTOT']].groupby(by = 'EDUC').mean());\n",
    "plt.xlabel('лет учёбы')\n",
    "plt.ylabel('средний доход')"
   ]
  },
  {
   "cell_type": "code",
   "execution_count": 65,
   "id": "23bb80ef",
   "metadata": {},
   "outputs": [
    {
     "data": {
      "text/plain": [
       "Text(0, 0.5, 'доход')"
      ]
     },
     "execution_count": 65,
     "metadata": {},
     "output_type": "execute_result"
    },
    {
     "data": {
      "image/png": "[encoded data removed]",
      "text/plain": [
       "<Figure size 432x288 with 1 Axes>"
      ]
     },
     "metadata": {
      "needs_background": "light"
     },
     "output_type": "display_data"
    }
   ],
   "source": [
    "plt.scatter(df_dem['EDUC'].iloc[0:100000], df_dem['INCTOT'].iloc[0:100000]); \n",
    "plt.xlabel('лет учёбы')\n",
    "plt.ylabel('доход')"
   ]
  },
  {
   "cell_type": "markdown",
   "id": "ff3988f7",
   "metadata": {},
   "source": [
    "## Попробуем пострить регрессию"
   ]
  },
  {
   "cell_type": "markdown",
   "id": "c4d98c23",
   "metadata": {},
   "source": [
    "Попробуем проверить гипотезу, например, о том, что люди, например, имеющие бакалаврское образование получают значительно больший( например на 50%) доход, чем люди только со школьным образованием. "
   ]
  },
  {
   "cell_type": "markdown",
   "id": "8d4fe050",
   "metadata": {},
   "source": [
    "Будем анализировать зрелых(уже  окончивших свою учёбу респондентов: > 30 лет)"
   ]
  },
  {
   "cell_type": "code",
   "execution_count": 42,
   "id": "a51e4e62",
   "metadata": {},
   "outputs": [],
   "source": [
    "df_dem_star = df_dem[(df_dem['AGE']>=30) & (df_dem['AGE']< 75) ]"
   ]
  },
  {
   "cell_type": "code",
   "execution_count": 43,
   "id": "2c0d979f",
   "metadata": {},
   "outputs": [],
   "source": [
    "df_inc_edu = df_dem_star[['EDUC','INCTOT']]"
   ]
  },
  {
   "cell_type": "code",
   "execution_count": 44,
   "id": "4f1f96bd",
   "metadata": {},
   "outputs": [],
   "source": [
    "from sklearn.model_selection import train_test_split\n",
    "df_train, df_test = train_test_split(df_inc_edu,test_size =  0.2)"
   ]
  },
  {
   "cell_type": "code",
   "execution_count": 45,
   "id": "b58e0859",
   "metadata": {},
   "outputs": [
    {
     "data": {
      "text/html": [
       "<div>\n",
       "<style scoped>\n",
       "    .dataframe tbody tr th:only-of-type {\n",
       "        vertical-align: middle;\n",
       "    }\n",
       "\n",
       "    .dataframe tbody tr th {\n",
       "        vertical-align: top;\n",
       "    }\n",
       "\n",
       "    .dataframe thead th {\n",
       "        text-align: right;\n",
       "    }\n",
       "</style>\n",
       "<table border=\"1\" class=\"dataframe\">\n",
       "  <thead>\n",
       "    <tr style=\"text-align: right;\">\n",
       "      <th></th>\n",
       "      <th>EDUC</th>\n",
       "      <th>INCTOT</th>\n",
       "    </tr>\n",
       "  </thead>\n",
       "  <tbody>\n",
       "    <tr>\n",
       "      <th>964179</th>\n",
       "      <td>16.0</td>\n",
       "      <td>18000</td>\n",
       "    </tr>\n",
       "    <tr>\n",
       "      <th>36903</th>\n",
       "      <td>14.0</td>\n",
       "      <td>93500</td>\n",
       "    </tr>\n",
       "    <tr>\n",
       "      <th>911632</th>\n",
       "      <td>12.0</td>\n",
       "      <td>54400</td>\n",
       "    </tr>\n",
       "    <tr>\n",
       "      <th>684810</th>\n",
       "      <td>18.0</td>\n",
       "      <td>97004</td>\n",
       "    </tr>\n",
       "    <tr>\n",
       "      <th>656688</th>\n",
       "      <td>18.0</td>\n",
       "      <td>0</td>\n",
       "    </tr>\n",
       "    <tr>\n",
       "      <th>...</th>\n",
       "      <td>...</td>\n",
       "      <td>...</td>\n",
       "    </tr>\n",
       "    <tr>\n",
       "      <th>28373</th>\n",
       "      <td>14.0</td>\n",
       "      <td>33000</td>\n",
       "    </tr>\n",
       "    <tr>\n",
       "      <th>39425</th>\n",
       "      <td>12.0</td>\n",
       "      <td>19000</td>\n",
       "    </tr>\n",
       "    <tr>\n",
       "      <th>755431</th>\n",
       "      <td>16.0</td>\n",
       "      <td>81000</td>\n",
       "    </tr>\n",
       "    <tr>\n",
       "      <th>21185</th>\n",
       "      <td>10.0</td>\n",
       "      <td>9600</td>\n",
       "    </tr>\n",
       "    <tr>\n",
       "      <th>808545</th>\n",
       "      <td>16.0</td>\n",
       "      <td>11200</td>\n",
       "    </tr>\n",
       "  </tbody>\n",
       "</table>\n",
       "<p>118435 rows × 2 columns</p>\n",
       "</div>"
      ],
      "text/plain": [
       "        EDUC  INCTOT\n",
       "964179  16.0   18000\n",
       "36903   14.0   93500\n",
       "911632  12.0   54400\n",
       "684810  18.0   97004\n",
       "656688  18.0       0\n",
       "...      ...     ...\n",
       "28373   14.0   33000\n",
       "39425   12.0   19000\n",
       "755431  16.0   81000\n",
       "21185   10.0    9600\n",
       "808545  16.0   11200\n",
       "\n",
       "[118435 rows x 2 columns]"
      ]
     },
     "execution_count": 45,
     "metadata": {},
     "output_type": "execute_result"
    }
   ],
   "source": [
    "df_test"
   ]
  },
  {
   "cell_type": "code",
   "execution_count": 46,
   "id": "bfd8c7b8",
   "metadata": {},
   "outputs": [],
   "source": [
    "x_train = df_train['EDUC'].to_numpy().reshape(-1,1)\n",
    "y_train = df_train['INCTOT'].to_numpy().reshape(-1,1)\n",
    "x_test = df_test['EDUC'].to_numpy().reshape(-1,1)\n",
    "y_test = df_test['INCTOT'].to_numpy().reshape(-1,1)"
   ]
  },
  {
   "cell_type": "code",
   "execution_count": 47,
   "id": "75071d7e",
   "metadata": {},
   "outputs": [],
   "source": [
    "from sklearn.linear_model import LinearRegression\n",
    "model_basic_linear = LinearRegression()"
   ]
  },
  {
   "cell_type": "code",
   "execution_count": 48,
   "id": "e247307c",
   "metadata": {},
   "outputs": [
    {
     "data": {
      "text/plain": [
       "LinearRegression()"
      ]
     },
     "execution_count": 48,
     "metadata": {},
     "output_type": "execute_result"
    }
   ],
   "source": [
    "model_basic_linear.fit(x_train,y_train)"
   ]
  },
  {
   "cell_type": "code",
   "execution_count": 49,
   "id": "e6879734",
   "metadata": {},
   "outputs": [],
   "source": [
    "predict_basic_linear = model_basic_linear.predict(x_test)"
   ]
  },
  {
   "cell_type": "code",
   "execution_count": 50,
   "id": "23001568",
   "metadata": {},
   "outputs": [],
   "source": [
    "from sklearn.metrics import mean_absolute_percentage_error, mean_squared_error, mean_absolute_error"
   ]
  },
  {
   "cell_type": "code",
   "execution_count": 51,
   "id": "24ae550c",
   "metadata": {},
   "outputs": [
    {
     "name": "stdout",
     "output_type": "stream",
     "text": [
      "MAPE =  0.9049094349012836 \n",
      "\n",
      "MSE =  4217812295.294886 \n",
      "\n",
      "MAE =  36792.52669142882\n"
     ]
    }
   ],
   "source": [
    "print('MAPE = ',mean_absolute_percentage_error(predict_basic_linear,y_test), '\\n')\n",
    "print('MSE = ', mean_squared_error(predict_basic_linear,y_test), '\\n')\n",
    "print('MAE = ', mean_absolute_error(predict_basic_linear,y_test))"
   ]
  },
  {
   "cell_type": "code",
   "execution_count": 52,
   "id": "cde29131",
   "metadata": {},
   "outputs": [
    {
     "data": {
      "text/plain": [
       "array([[6123.12590644]])"
      ]
     },
     "execution_count": 52,
     "metadata": {},
     "output_type": "execute_result"
    }
   ],
   "source": [
    "model_basic_linear.coef_"
   ]
  },
  {
   "cell_type": "code",
   "execution_count": 53,
   "id": "a23f25f6",
   "metadata": {},
   "outputs": [
    {
     "data": {
      "text/plain": [
       "array([-35304.12400141])"
      ]
     },
     "execution_count": 53,
     "metadata": {},
     "output_type": "execute_result"
    }
   ],
   "source": [
    "model_basic_linear.intercept_"
   ]
  },
  {
   "cell_type": "code",
   "execution_count": 66,
   "id": "627e017e",
   "metadata": {},
   "outputs": [
    {
     "data": {
      "text/plain": [
       "Text(0, 0.5, 'доход')"
      ]
     },
     "execution_count": 66,
     "metadata": {},
     "output_type": "execute_result"
    },
    {
     "data": {
      "image/png": "[encoded data removed]",
      "text/plain": [
       "<Figure size 432x288 with 1 Axes>"
      ]
     },
     "metadata": {
      "needs_background": "light"
     },
     "output_type": "display_data"
    }
   ],
   "source": [
    "plt.plot(df_dem[['EDUC','INCTOT']].groupby(by = 'EDUC').mean()) # Средний доход от лет учёбы\n",
    "plt.plot(np.linspace(0,24,100),5921.44533212*np.linspace(0,24,100) -39475.8087161)\n",
    "plt.xlabel('лет учёбы')\n",
    "plt.ylabel('доход')\n"
   ]
  },
  {
   "cell_type": "markdown",
   "id": "75f1b714",
   "metadata": {},
   "source": [
    "Попробуем добавить в модель квадратичную фукцию"
   ]
  },
  {
   "cell_type": "code",
   "execution_count": 268,
   "id": "e4ba49e2",
   "metadata": {},
   "outputs": [],
   "source": [
    "from sklearn.preprocessing import PolynomialFeatures"
   ]
  },
  {
   "cell_type": "code",
   "execution_count": 269,
   "id": "a6956f1c",
   "metadata": {},
   "outputs": [],
   "source": [
    "poly = PolynomialFeatures(2)\n"
   ]
  },
  {
   "cell_type": "code",
   "execution_count": 270,
   "id": "f62d2df6",
   "metadata": {},
   "outputs": [
    {
     "data": {
      "text/plain": [
       "60787"
      ]
     },
     "execution_count": 270,
     "metadata": {},
     "output_type": "execute_result"
    }
   ],
   "source": [
    "len(df_dem_star['INCTOT'][df_dem_star['INCTOT'] == 0])"
   ]
  },
  {
   "cell_type": "code",
   "execution_count": 271,
   "id": "e1adf636",
   "metadata": {},
   "outputs": [
    {
     "data": {
      "text/plain": [
       "[<matplotlib.lines.Line2D at 0x7fcda9df3790>]"
      ]
     },
     "execution_count": 271,
     "metadata": {},
     "output_type": "execute_result"
    },
    {
     "data": {
      "image/png": "[encoded data removed]",
      "text/plain": [
       "<Figure size 432x288 with 1 Axes>"
      ]
     },
     "metadata": {
      "needs_background": "light"
     },
     "output_type": "display_data"
    }
   ],
   "source": [
    "plt.plot(df_dem_star[['AGE', 'INCTOT']].groupby(by ='AGE' ).mean())"
   ]
  },
  {
   "cell_type": "code",
   "execution_count": null,
   "id": "f7cc613b",
   "metadata": {},
   "outputs": [],
   "source": []
  }
 ],
 "metadata": {
  "kernelspec": {
   "display_name": "Python 3 (ipykernel)",
   "language": "python",
   "name": "python3"
  },
  "language_info": {
   "codemirror_mode": {
    "name": "ipython",
    "version": 3
   },
   "file_extension": ".py",
   "mimetype": "text/x-python",
   "name": "python",
   "nbconvert_exporter": "python",
   "pygments_lexer": "ipython3",
   "version": "3.9.7"
  }
 },
 "nbformat": 4,
 "nbformat_minor": 5
}
